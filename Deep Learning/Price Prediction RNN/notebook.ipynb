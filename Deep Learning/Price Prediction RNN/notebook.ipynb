{
 "cells": [
  {
   "cell_type": "markdown",
   "id": "c131e327",
   "metadata": {},
   "source": [
    "### importing libraries"
   ]
  },
  {
   "cell_type": "code",
   "execution_count": 1,
   "id": "6f196c95",
   "metadata": {},
   "outputs": [],
   "source": [
    "import numpy as np\n",
    "import pandas as pd\n",
    "from sklearn.preprocessing import MinMaxScaler\n",
    "import matplotlib.pyplot as plt\n",
    "\n",
    "from keras.models import Sequential\n",
    "from keras.layers import Dense\n",
    "from keras.layers import LSTM\n",
    "from keras.layers import Dropout\n",
    "import tensorflow as tf"
   ]
  },
  {
   "cell_type": "markdown",
   "id": "9ebede73",
   "metadata": {},
   "source": [
    "### Data Preprocessing"
   ]
  },
  {
   "cell_type": "code",
   "execution_count": 4,
   "id": "a4c93762",
   "metadata": {},
   "outputs": [
    {
     "name": "stdout",
     "output_type": "stream",
     "text": [
      "[[  430.721008]\n",
      " [  434.622009]\n",
      " [  433.578003]\n",
      " ...\n",
      " [27081.81055 ]\n",
      " [27360.08984 ]\n",
      " [28841.57422 ]]\n"
     ]
    }
   ],
   "source": [
    "# Importing and scaling the data\n",
    "dataset_train = pd.read_csv(\"./Data/Bitcoin_Stock_Price_Trainset.csv\")\n",
    "\n",
    "#selecting the right column (we need all rows and column 1) : numpy array\n",
    "training_set = dataset_train.iloc[:,1:2].values\n",
    "print(training_set)"
   ]
  },
  {
   "cell_type": "code",
   "execution_count": 5,
   "id": "e758cf18",
   "metadata": {},
   "outputs": [
    {
     "name": "stdout",
     "output_type": "stream",
     "text": [
      "[0.00230534]\n"
     ]
    }
   ],
   "source": [
    "# Feature scaling\n",
    "sc = MinMaxScaler(feature_range=(0,1))\n",
    "training_set_scaled = sc.fit_transform(training_set)\n",
    "print(training_set_scaled[0,:])"
   ]
  },
  {
   "cell_type": "code",
   "execution_count": 6,
   "id": "6ec88540",
   "metadata": {},
   "outputs": [],
   "source": [
    "#creating a data structure with 60 timesteps and 1 output\n",
    "X_train = []\n",
    "y_train = []"
   ]
  },
  {
   "cell_type": "code",
   "execution_count": 7,
   "id": "bef7481d",
   "metadata": {},
   "outputs": [
    {
     "name": "stdout",
     "output_type": "stream",
     "text": [
      "[[0.00230534 0.00244233 0.00240567 ... 0.0021588  0.00208    0.00181767]\n",
      " [0.00244233 0.00240567 0.00228216 ... 0.00208    0.00181767 0.00176229]\n",
      " [0.00240567 0.00228216 0.00238779 ... 0.00181767 0.00176229 0.00181508]\n",
      " ...\n",
      " [0.36478732 0.36544407 0.36336591 ... 0.85375456 0.91564269 0.91007491]\n",
      " [0.36544407 0.36336591 0.36803461 ... 0.91564269 0.91007491 0.93820295]\n",
      " [0.36336591 0.36803461 0.36591355 ... 0.91007491 0.93820295 0.9479752 ]]\n"
     ]
    }
   ],
   "source": [
    "for i in range(90,training_set_scaled.size):\n",
    "    # appending the 60 previous stock prices to the list for i\n",
    "    # we need to specify the rows and simply pick the first and only column\n",
    "    X_train.append(training_set_scaled[i-90:i, 0])\n",
    "    \n",
    "    # appending the 60th stock price to the list for i\n",
    "    y_train.append(training_set_scaled[i, 0])\n",
    "    \n",
    "# transforming pandas lists to numpy arrays required for the RNN\n",
    "X_train, y_train = np.array(X_train), np.array(y_train)\n",
    "\n",
    "print(X_train)"
   ]
  },
  {
   "cell_type": "code",
   "execution_count": 8,
   "id": "9171ee70",
   "metadata": {},
   "outputs": [
    {
     "name": "stdout",
     "output_type": "stream",
     "text": [
      "(1733, 90, 1)\n"
     ]
    }
   ],
   "source": [
    "# Shaping/adding new dimensions to allow adding more indicators: from 2D to 3D\n",
    "# 3 input arguments\n",
    "# batch_size: number of observations\n",
    "# timesteps: number of columns\n",
    "# input_dim: number of predictors\n",
    "X_train = np.reshape(X_train, [X_train.shape[0], X_train.shape[1], 1])\n",
    "\n",
    "print(X_train.shape)"
   ]
  },
  {
   "cell_type": "markdown",
   "id": "fc145ff9",
   "metadata": {},
   "source": [
    "### Building RNN/LSTM model"
   ]
  },
  {
   "cell_type": "code",
   "execution_count": 9,
   "id": "a6df088f",
   "metadata": {},
   "outputs": [
    {
     "name": "stdout",
     "output_type": "stream",
     "text": [
      "90\n"
     ]
    }
   ],
   "source": [
    "#Initializing the RNN\n",
    "\n",
    "# independent variable is a sequence of layers: regression and no classification given the continuous output value\n",
    "regressor = Sequential()\n",
    "\n",
    "#------------------------------------------------------------------#\n",
    "# Adding the first LSTM layer\n",
    "#------------------------------------------------------------------#\n",
    "\n",
    "# 3 inputs\n",
    "# number of memory/LSTM units or neurons in each LSTM\n",
    "# binary vb to indicate whether there will be further layers of LSTM added to teh model\n",
    "# input shape (automatically takes teh first dimension so the reamining only needs to be specified)\n",
    "print(X_train.shape[1])\n",
    "regressor.add(LSTM(units = 50, return_sequences=True, input_shape = (X_train.shape[1], 1)))\n",
    "\n",
    "# adding Dropout regularization layers\n",
    "# 1 input: amount of neurons to ignore in the layers\n",
    "regressor.add(Dropout(0.2))\n",
    "\n",
    "#------------------------------------------------------------------#\n",
    "# Adding the second LSTM layer\n",
    "#------------------------------------------------------------------#\n",
    "# no input shape needed given that that is specified in the previous layer\n",
    "regressor.add(LSTM(units = 50, return_sequences=True))\n",
    "regressor.add(Dropout(0.2))\n",
    "\n",
    "#------------------------------------------------------------------#\n",
    "# Adding the third LSTM layer\n",
    "#------------------------------------------------------------------#\n",
    "regressor.add(LSTM(units = 50, return_sequences=True))\n",
    "regressor.add(Dropout(0.2))\n",
    "\n",
    "#------------------------------------------------------------------#\n",
    "# Adding the forth LSTM layer\n",
    "#------------------------------------------------------------------#\n",
    "regressor.add(LSTM(units = 50, return_sequences=True))\n",
    "regressor.add(Dropout(0.2))\n",
    "\n",
    "#------------------------------------------------------------------#\n",
    "# Adding the fifth LSTM layer\n",
    "#------------------------------------------------------------------#\n",
    "# note that this is the final LSTM layer, hence we change the binary argument to False\n",
    "regressor.add(LSTM(units = 50))\n",
    "regressor.add(Dropout(0.2))\n",
    "\n",
    "#------------------------------------------------------------------#\n",
    "# Adding output layer to the RNN to make a fully connected NN\n",
    "#------------------------------------------------------------------#\n",
    "# one dimensional real output\n",
    "regressor.add(Dense(units = 1))"
   ]
  },
  {
   "cell_type": "markdown",
   "id": "449ed96e",
   "metadata": {},
   "source": [
    "### Compiling the RNN model"
   ]
  },
  {
   "cell_type": "code",
   "execution_count": 10,
   "id": "4ed003b8",
   "metadata": {},
   "outputs": [],
   "source": [
    "regressor.compile(optimizer = 'adam', loss = 'mean_squared_error')"
   ]
  },
  {
   "cell_type": "markdown",
   "id": "10153d52",
   "metadata": {},
   "source": [
    "### Training RNN model"
   ]
  },
  {
   "cell_type": "code",
   "execution_count": 11,
   "id": "bc3831a3",
   "metadata": {
    "scrolled": false
   },
   "outputs": [
    {
     "name": "stdout",
     "output_type": "stream",
     "text": [
      "Epoch 1/120\n",
      "55/55 [==============================] - 23s 230ms/step - loss: 0.0099\n",
      "Epoch 2/120\n",
      "55/55 [==============================] - 11s 209ms/step - loss: 0.0035\n",
      "Epoch 3/120\n",
      "55/55 [==============================] - 13s 234ms/step - loss: 0.0028\n",
      "Epoch 4/120\n",
      "55/55 [==============================] - 12s 221ms/step - loss: 0.0022\n",
      "Epoch 5/120\n",
      "55/55 [==============================] - 11s 195ms/step - loss: 0.0027\n",
      "Epoch 6/120\n",
      "55/55 [==============================] - 11s 194ms/step - loss: 0.0021\n",
      "Epoch 7/120\n",
      "55/55 [==============================] - 11s 194ms/step - loss: 0.0018\n",
      "Epoch 8/120\n",
      "55/55 [==============================] - 12s 220ms/step - loss: 0.0019\n",
      "Epoch 9/120\n",
      "55/55 [==============================] - 13s 233ms/step - loss: 0.0016\n",
      "Epoch 10/120\n",
      "55/55 [==============================] - 11s 194ms/step - loss: 0.0015\n",
      "Epoch 11/120\n",
      "55/55 [==============================] - 11s 193ms/step - loss: 0.0016\n",
      "Epoch 12/120\n",
      "55/55 [==============================] - 11s 193ms/step - loss: 0.0017\n",
      "Epoch 13/120\n",
      "55/55 [==============================] - 11s 204ms/step - loss: 0.0014\n",
      "Epoch 14/120\n",
      "55/55 [==============================] - 13s 238ms/step - loss: 0.0013\n",
      "Epoch 15/120\n",
      "55/55 [==============================] - 11s 198ms/step - loss: 0.0013\n",
      "Epoch 16/120\n",
      "55/55 [==============================] - 11s 193ms/step - loss: 0.0013\n",
      "Epoch 17/120\n",
      "55/55 [==============================] - 11s 193ms/step - loss: 0.0013\n",
      "Epoch 18/120\n",
      "55/55 [==============================] - 11s 195ms/step - loss: 0.0014\n",
      "Epoch 19/120\n",
      "55/55 [==============================] - 13s 233ms/step - loss: 0.0013\n",
      "Epoch 20/120\n",
      "55/55 [==============================] - 12s 215ms/step - loss: 0.0011\n",
      "Epoch 21/120\n",
      "55/55 [==============================] - 11s 193ms/step - loss: 0.0012\n",
      "Epoch 22/120\n",
      "55/55 [==============================] - 11s 198ms/step - loss: 0.0015\n",
      "Epoch 23/120\n",
      "55/55 [==============================] - 11s 194ms/step - loss: 0.0012\n",
      "Epoch 24/120\n",
      "55/55 [==============================] - 14s 248ms/step - loss: 0.0013\n",
      "Epoch 25/120\n",
      "55/55 [==============================] - 12s 224ms/step - loss: 0.0011\n",
      "Epoch 26/120\n",
      "55/55 [==============================] - 11s 193ms/step - loss: 9.6893e-04\n",
      "Epoch 27/120\n",
      "55/55 [==============================] - 11s 193ms/step - loss: 0.0011\n",
      "Epoch 28/120\n",
      "55/55 [==============================] - 11s 203ms/step - loss: 9.3338e-04\n",
      "Epoch 29/120\n",
      "55/55 [==============================] - 13s 240ms/step - loss: 9.9495e-04\n",
      "Epoch 30/120\n",
      "55/55 [==============================] - 13s 233ms/step - loss: 0.0010\n",
      "Epoch 31/120\n",
      "55/55 [==============================] - 11s 195ms/step - loss: 0.0011\n",
      "Epoch 32/120\n",
      "55/55 [==============================] - 12s 211ms/step - loss: 8.8378e-04\n",
      "Epoch 33/120\n",
      "55/55 [==============================] - 11s 194ms/step - loss: 9.4243e-04\n",
      "Epoch 34/120\n",
      "55/55 [==============================] - 12s 210ms/step - loss: 9.0264e-04\n",
      "Epoch 35/120\n",
      "55/55 [==============================] - 13s 234ms/step - loss: 9.3082e-04\n",
      "Epoch 36/120\n",
      "55/55 [==============================] - 11s 199ms/step - loss: 8.6295e-04\n",
      "Epoch 37/120\n",
      "55/55 [==============================] - 11s 193ms/step - loss: 8.2605e-04\n",
      "Epoch 38/120\n",
      "55/55 [==============================] - 11s 194ms/step - loss: 8.3825e-04\n",
      "Epoch 39/120\n",
      "55/55 [==============================] - 11s 196ms/step - loss: 9.0542e-04\n",
      "Epoch 40/120\n",
      "55/55 [==============================] - 13s 240ms/step - loss: 9.2716e-04\n",
      "Epoch 41/120\n",
      "55/55 [==============================] - 11s 206ms/step - loss: 8.5077e-04\n",
      "Epoch 42/120\n",
      "55/55 [==============================] - 11s 195ms/step - loss: 8.2622e-04\n",
      "Epoch 43/120\n",
      "55/55 [==============================] - 11s 193ms/step - loss: 8.5008e-04\n",
      "Epoch 44/120\n",
      "55/55 [==============================] - 11s 194ms/step - loss: 9.4755e-04\n",
      "Epoch 45/120\n",
      "55/55 [==============================] - 12s 224ms/step - loss: 7.5927e-04\n",
      "Epoch 46/120\n",
      "55/55 [==============================] - 12s 221ms/step - loss: 7.2096e-04\n",
      "Epoch 47/120\n",
      "55/55 [==============================] - 11s 195ms/step - loss: 8.1963e-04\n",
      "Epoch 48/120\n",
      "55/55 [==============================] - 11s 195ms/step - loss: 7.0835e-04\n",
      "Epoch 49/120\n",
      "55/55 [==============================] - 11s 196ms/step - loss: 8.5576e-04\n",
      "Epoch 50/120\n",
      "55/55 [==============================] - 12s 218ms/step - loss: 7.4210e-04\n",
      "Epoch 51/120\n",
      "55/55 [==============================] - 13s 231ms/step - loss: 7.4345e-04\n",
      "Epoch 52/120\n",
      "55/55 [==============================] - 11s 197ms/step - loss: 7.7053e-04\n",
      "Epoch 53/120\n",
      "55/55 [==============================] - 11s 195ms/step - loss: 5.9383e-04\n",
      "Epoch 54/120\n",
      "55/55 [==============================] - 11s 194ms/step - loss: 7.2040e-04\n",
      "Epoch 55/120\n",
      "55/55 [==============================] - 11s 204ms/step - loss: 6.5344e-04\n",
      "Epoch 56/120\n",
      "55/55 [==============================] - 13s 233ms/step - loss: 6.5466e-04\n",
      "Epoch 57/120\n",
      "55/55 [==============================] - 11s 192ms/step - loss: 6.3973e-04\n",
      "Epoch 58/120\n",
      "55/55 [==============================] - 10s 188ms/step - loss: 6.5814e-04\n",
      "Epoch 59/120\n",
      "55/55 [==============================] - 10s 188ms/step - loss: 6.7958e-04\n",
      "Epoch 60/120\n",
      "55/55 [==============================] - 10s 189ms/step - loss: 6.5564e-04\n",
      "Epoch 61/120\n",
      "55/55 [==============================] - 12s 218ms/step - loss: 6.0786e-04\n",
      "Epoch 62/120\n",
      "55/55 [==============================] - 12s 218ms/step - loss: 6.8876e-04\n",
      "Epoch 63/120\n",
      "55/55 [==============================] - 10s 189ms/step - loss: 6.8867e-04\n",
      "Epoch 64/120\n",
      "55/55 [==============================] - 10s 188ms/step - loss: 5.5614e-04\n",
      "Epoch 65/120\n",
      "55/55 [==============================] - 10s 189ms/step - loss: 7.0610e-04\n",
      "Epoch 66/120\n",
      "55/55 [==============================] - 11s 198ms/step - loss: 6.1588e-04\n",
      "Epoch 67/120\n",
      "55/55 [==============================] - 13s 233ms/step - loss: 6.4563e-04\n",
      "Epoch 68/120\n",
      "55/55 [==============================] - 11s 192ms/step - loss: 5.7893e-04\n",
      "Epoch 69/120\n",
      "55/55 [==============================] - 10s 189ms/step - loss: 5.5546e-04\n",
      "Epoch 70/120\n",
      "55/55 [==============================] - 10s 188ms/step - loss: 7.0087e-04\n",
      "Epoch 71/120\n",
      "55/55 [==============================] - 10s 189ms/step - loss: 6.4610e-04\n",
      "Epoch 72/120\n",
      "55/55 [==============================] - 12s 219ms/step - loss: 8.1820e-04\n",
      "Epoch 73/120\n",
      "55/55 [==============================] - 12s 215ms/step - loss: 6.4827e-04\n",
      "Epoch 74/120\n",
      "55/55 [==============================] - 10s 189ms/step - loss: 5.6377e-04\n",
      "Epoch 75/120\n",
      "55/55 [==============================] - 11s 191ms/step - loss: 7.3183e-04\n",
      "Epoch 76/120\n",
      "55/55 [==============================] - 10s 189ms/step - loss: 6.1114e-04\n",
      "Epoch 77/120\n",
      "55/55 [==============================] - 12s 222ms/step - loss: 7.4356e-04\n",
      "Epoch 78/120\n",
      "55/55 [==============================] - 13s 230ms/step - loss: 6.0896e-04\n",
      "Epoch 79/120\n",
      "55/55 [==============================] - 11s 193ms/step - loss: 6.4352e-04\n",
      "Epoch 80/120\n",
      "55/55 [==============================] - 10s 189ms/step - loss: 5.5772e-04\n",
      "Epoch 81/120\n",
      "55/55 [==============================] - 10s 189ms/step - loss: 7.0886e-04\n",
      "Epoch 82/120\n",
      "55/55 [==============================] - 10s 189ms/step - loss: 7.1307e-04\n",
      "Epoch 83/120\n",
      "55/55 [==============================] - 12s 225ms/step - loss: 6.3898e-04\n",
      "Epoch 84/120\n",
      "55/55 [==============================] - 12s 210ms/step - loss: 5.8406e-04\n",
      "Epoch 85/120\n",
      "55/55 [==============================] - 11s 196ms/step - loss: 5.2484e-04\n",
      "Epoch 86/120\n",
      "55/55 [==============================] - 11s 199ms/step - loss: 7.1733e-04\n",
      "Epoch 87/120\n",
      "55/55 [==============================] - 10s 189ms/step - loss: 6.1160e-04\n",
      "Epoch 88/120\n",
      "55/55 [==============================] - 12s 211ms/step - loss: 6.0086e-04\n",
      "Epoch 89/120\n",
      "55/55 [==============================] - 12s 223ms/step - loss: 6.2459e-04\n",
      "Epoch 90/120\n",
      "55/55 [==============================] - 11s 190ms/step - loss: 6.1117e-04\n",
      "Epoch 91/120\n",
      "55/55 [==============================] - 10s 189ms/step - loss: 6.0979e-04\n",
      "Epoch 92/120\n",
      "55/55 [==============================] - 10s 190ms/step - loss: 6.7484e-04\n",
      "Epoch 93/120\n",
      "55/55 [==============================] - 11s 192ms/step - loss: 5.7887e-04\n",
      "Epoch 94/120\n",
      "55/55 [==============================] - 13s 235ms/step - loss: 5.7566e-04\n",
      "Epoch 95/120\n"
     ]
    },
    {
     "name": "stdout",
     "output_type": "stream",
     "text": [
      "55/55 [==============================] - 11s 198ms/step - loss: 5.5208e-04\n",
      "Epoch 96/120\n",
      "55/55 [==============================] - 10s 190ms/step - loss: 5.4605e-04\n",
      "Epoch 97/120\n",
      "55/55 [==============================] - 10s 189ms/step - loss: 5.6298e-04\n",
      "Epoch 98/120\n",
      "55/55 [==============================] - 10s 189ms/step - loss: 6.1911e-04\n",
      "Epoch 99/120\n",
      "55/55 [==============================] - 12s 214ms/step - loss: 5.5969e-04\n",
      "Epoch 100/120\n",
      "55/55 [==============================] - 12s 221ms/step - loss: 5.2996e-04\n",
      "Epoch 101/120\n",
      "55/55 [==============================] - 10s 189ms/step - loss: 5.4058e-04\n",
      "Epoch 102/120\n",
      "55/55 [==============================] - 10s 190ms/step - loss: 6.8974e-04\n",
      "Epoch 103/120\n",
      "55/55 [==============================] - 11s 194ms/step - loss: 8.5891e-04\n",
      "Epoch 104/120\n",
      "55/55 [==============================] - 11s 196ms/step - loss: 5.7586e-04\n",
      "Epoch 105/120\n",
      "55/55 [==============================] - 13s 235ms/step - loss: 5.7094e-04\n",
      "Epoch 106/120\n",
      "55/55 [==============================] - 11s 194ms/step - loss: 5.2187e-04\n",
      "Epoch 107/120\n",
      "55/55 [==============================] - 10s 189ms/step - loss: 5.4357e-04\n",
      "Epoch 108/120\n",
      "55/55 [==============================] - 10s 190ms/step - loss: 6.0260e-04\n",
      "Epoch 109/120\n",
      "55/55 [==============================] - 11s 198ms/step - loss: 4.9885e-04\n",
      "Epoch 110/120\n",
      "55/55 [==============================] - 12s 220ms/step - loss: 6.4134e-04\n",
      "Epoch 111/120\n",
      "55/55 [==============================] - 12s 216ms/step - loss: 6.0142e-04\n",
      "Epoch 112/120\n",
      "55/55 [==============================] - 10s 191ms/step - loss: 5.6377e-04\n",
      "Epoch 113/120\n",
      "55/55 [==============================] - 10s 189ms/step - loss: 6.6660e-04\n",
      "Epoch 114/120\n",
      "55/55 [==============================] - 10s 189ms/step - loss: 6.0485e-04\n",
      "Epoch 115/120\n",
      "55/55 [==============================] - 11s 202ms/step - loss: 5.9770e-04\n",
      "Epoch 116/120\n",
      "55/55 [==============================] - 13s 228ms/step - loss: 5.6491e-04\n",
      "Epoch 117/120\n",
      "55/55 [==============================] - 11s 194ms/step - loss: 5.7673e-04\n",
      "Epoch 118/120\n",
      "55/55 [==============================] - 10s 189ms/step - loss: 4.5905e-04\n",
      "Epoch 119/120\n",
      "55/55 [==============================] - 10s 189ms/step - loss: 5.2618e-04\n",
      "Epoch 120/120\n",
      "55/55 [==============================] - 10s 190ms/step - loss: 5.5200e-04\n"
     ]
    },
    {
     "data": {
      "text/plain": [
       "<keras.callbacks.History at 0x27ee8853280>"
      ]
     },
     "execution_count": 11,
     "metadata": {},
     "output_type": "execute_result"
    }
   ],
   "source": [
    "#connecting the built regressor to the training model\n",
    "regressor.fit(X_train, y_train, epochs = 120, batch_size = 32)"
   ]
  },
  {
   "cell_type": "markdown",
   "id": "a2f5405a",
   "metadata": {},
   "source": [
    "### Testing RNN model"
   ]
  },
  {
   "cell_type": "code",
   "execution_count": 14,
   "id": "23a94abf",
   "metadata": {},
   "outputs": [
    {
     "name": "stdout",
     "output_type": "stream",
     "text": [
      "[[28994.00977]\n",
      " [29376.45508]\n",
      " [32129.4082 ]\n",
      " [32810.94922]\n",
      " [31977.04102]]\n"
     ]
    }
   ],
   "source": [
    "dataset_test = pd.read_csv(\"./Data/Bitcoin_Stock_Price_Testset.csv\")\n",
    "\n",
    "# actual stock prices\n",
    "real_stock_price = dataset_test.iloc[:,1:2].values\n",
    "\n",
    "# predicting the stock prices using X_test\n",
    "# we need the original training data (vertical concatination 0, horizontal 1)\n",
    "dataset_total = pd.concat((dataset_train['Open'], dataset_test['Open']), axis = 0)\n",
    "\n",
    "print(real_stock_price[:5])"
   ]
  },
  {
   "cell_type": "code",
   "execution_count": 15,
   "id": "682f0993",
   "metadata": {},
   "outputs": [
    {
     "name": "stdout",
     "output_type": "stream",
     "text": [
      "First Financial day in 2021, when testing period begins 1823\n",
      "First Financial day in 2021 minus 60 days 1733\n"
     ]
    }
   ],
   "source": [
    "# for the consistence of the model we need to have the same scaling on the test as on the training\n",
    "# for the first test day we need the previous 60 days data from train\n",
    "print(\"First Financial day in 2021, when testing period begins\",len(dataset_total)- len(dataset_test))\n",
    "print(\"First Financial day in 2021 minus 60 days\",len(dataset_total)- len(dataset_test) - 90)\n",
    "inputs = dataset_total[len(dataset_total) - len(dataset_test) - 90:].values\n",
    "\n",
    "# reshaping,normalizing the inputs\n",
    "inputs = inputs.reshape(-1,1)\n",
    "\n",
    "# no longer fitting but just transforming\n",
    "inputs = sc.transform(inputs)"
   ]
  },
  {
   "cell_type": "code",
   "execution_count": 16,
   "id": "f99b1066",
   "metadata": {},
   "outputs": [],
   "source": [
    "#storing test data as we did in teh training\n",
    "X_test = []\n",
    "for i in range(90,inputs.size):\n",
    "    X_test.append(inputs[i-90:i, 0])\n",
    "X_test = np.array(X_test)\n",
    "\n",
    "#adding extra dimension\n",
    "X_test = np.reshape(X_test, [X_test.shape[0], X_test.shape[1], 1])"
   ]
  },
  {
   "cell_type": "code",
   "execution_count": 17,
   "id": "0dd48cd1",
   "metadata": {},
   "outputs": [],
   "source": [
    "#obtaining predicted values\n",
    "predicted_stock_price = regressor.predict(X_test)\n",
    "predicted_stock_price = sc.inverse_transform(predicted_stock_price)"
   ]
  },
  {
   "cell_type": "markdown",
   "id": "ab1df5c2",
   "metadata": {},
   "source": [
    "### Visualizing the RNN model results"
   ]
  },
  {
   "cell_type": "code",
   "execution_count": 18,
   "id": "cdf40d3c",
   "metadata": {},
   "outputs": [
    {
     "data": {
      "image/png": "[encoded data removed]",
      "text/plain": [
       "<Figure size 432x288 with 1 Axes>"
      ]
     },
     "metadata": {
      "needs_background": "light"
     },
     "output_type": "display_data"
    }
   ],
   "source": [
    "plt.plot(real_stock_price, color = '#ffd700', label = \"Real Price January - March 2021\")\n",
    "plt.plot(predicted_stock_price, color = '#4782B4', label = \"Predicted Price January - March 2021\")\n",
    "plt.title(\"Bitcoin Price Prediction\")\n",
    "plt.xlabel(\"Time\")\n",
    "plt.ylabel(\"Bitcoin Price\")\n",
    "plt.legend()\n",
    "\n",
    "plt.show()"
   ]
  }
 ],
 "metadata": {
  "kernelspec": {
   "display_name": "Python 3",
   "language": "python",
   "name": "python3"
  },
  "language_info": {
   "codemirror_mode": {
    "name": "ipython",
    "version": 3
   },
   "file_extension": ".py",
   "mimetype": "text/x-python",
   "name": "python",
   "nbconvert_exporter": "python",
   "pygments_lexer": "ipython3",
   "version": "3.8.8"
  }
 },
 "nbformat": 4,
 "nbformat_minor": 5
}
