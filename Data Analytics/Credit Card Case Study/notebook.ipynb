{
 "cells": [
  {
   "cell_type": "code",
   "execution_count": 1,
   "metadata": {},
   "outputs": [],
   "source": [
    "import numpy as np\n",
    "import pandas as pd\n",
    "import datetime\n",
    "import matplotlib.pyplot as plt\n",
    "import seaborn as sns"
   ]
  },
  {
   "cell_type": "markdown",
   "metadata": {},
   "source": [
    "## Q1 In the above dataset :   \n",
    "\n",
    "### a. In case age is less than 18, replace it with mean of age values."
   ]
  },
  {
   "cell_type": "code",
   "execution_count": 2,
   "metadata": {},
   "outputs": [],
   "source": [
    "Customer_Acq = pd.read_csv(\"./Data/Customer Acqusition.csv\")"
   ]
  },
  {
   "cell_type": "code",
   "execution_count": 3,
   "metadata": {
    "scrolled": true
   },
   "outputs": [
    {
     "data": {
      "text/html": [
       "<div>\n",
       "<style scoped>\n",
       "    .dataframe tbody tr th:only-of-type {\n",
       "        vertical-align: middle;\n",
       "    }\n",
       "\n",
       "    .dataframe tbody tr th {\n",
       "        vertical-align: top;\n",
       "    }\n",
       "\n",
       "    .dataframe thead th {\n",
       "        text-align: right;\n",
       "    }\n",
       "</style>\n",
       "<table border=\"1\" class=\"dataframe\">\n",
       "  <thead>\n",
       "    <tr style=\"text-align: right;\">\n",
       "      <th></th>\n",
       "      <th>No</th>\n",
       "      <th>Customer</th>\n",
       "      <th>Age</th>\n",
       "      <th>City</th>\n",
       "      <th>Product</th>\n",
       "      <th>Limit</th>\n",
       "      <th>Company</th>\n",
       "      <th>Segment</th>\n",
       "    </tr>\n",
       "  </thead>\n",
       "  <tbody>\n",
       "    <tr>\n",
       "      <th>0</th>\n",
       "      <td>1</td>\n",
       "      <td>A1</td>\n",
       "      <td>76.0</td>\n",
       "      <td>BANGALORE</td>\n",
       "      <td>Gold</td>\n",
       "      <td>500000.0</td>\n",
       "      <td>C1</td>\n",
       "      <td>Self Employed</td>\n",
       "    </tr>\n",
       "    <tr>\n",
       "      <th>1</th>\n",
       "      <td>2</td>\n",
       "      <td>A2</td>\n",
       "      <td>71.0</td>\n",
       "      <td>CALCUTTA</td>\n",
       "      <td>Silver</td>\n",
       "      <td>100000.0</td>\n",
       "      <td>C2</td>\n",
       "      <td>Salaried_MNC</td>\n",
       "    </tr>\n",
       "    <tr>\n",
       "      <th>2</th>\n",
       "      <td>3</td>\n",
       "      <td>A3</td>\n",
       "      <td>34.0</td>\n",
       "      <td>COCHIN</td>\n",
       "      <td>Platimum</td>\n",
       "      <td>10000.0</td>\n",
       "      <td>C3</td>\n",
       "      <td>Salaried_Pvt</td>\n",
       "    </tr>\n",
       "    <tr>\n",
       "      <th>3</th>\n",
       "      <td>4</td>\n",
       "      <td>A4</td>\n",
       "      <td>47.0</td>\n",
       "      <td>BOMBAY</td>\n",
       "      <td>Platimum</td>\n",
       "      <td>10001.0</td>\n",
       "      <td>C4</td>\n",
       "      <td>Govt</td>\n",
       "    </tr>\n",
       "    <tr>\n",
       "      <th>4</th>\n",
       "      <td>5</td>\n",
       "      <td>A5</td>\n",
       "      <td>56.0</td>\n",
       "      <td>BANGALORE</td>\n",
       "      <td>Platimum</td>\n",
       "      <td>10002.0</td>\n",
       "      <td>C5</td>\n",
       "      <td>Normal Salary</td>\n",
       "    </tr>\n",
       "  </tbody>\n",
       "</table>\n",
       "</div>"
      ],
      "text/plain": [
       "   No Customer   Age       City   Product     Limit Company        Segment\n",
       "0   1       A1  76.0  BANGALORE      Gold  500000.0      C1  Self Employed\n",
       "1   2       A2  71.0   CALCUTTA    Silver  100000.0      C2   Salaried_MNC\n",
       "2   3       A3  34.0     COCHIN  Platimum   10000.0      C3   Salaried_Pvt\n",
       "3   4       A4  47.0     BOMBAY  Platimum   10001.0      C4           Govt\n",
       "4   5       A5  56.0  BANGALORE  Platimum   10002.0      C5  Normal Salary"
      ]
     },
     "execution_count": 3,
     "metadata": {},
     "output_type": "execute_result"
    }
   ],
   "source": [
    "df = pd.DataFrame(Customer_Acq)\n",
    "df.loc[df['Age']<18,'Age'] = df.Age.mean()\n",
    "\n",
    "df.head()"
   ]
  },
  {
   "cell_type": "markdown",
   "metadata": {},
   "source": [
    "### b. In case spend amount is more than the limit, replace it with 50% of that customer’s limit."
   ]
  },
  {
   "cell_type": "code",
   "execution_count": 4,
   "metadata": {},
   "outputs": [],
   "source": [
    "Spend_amt = pd.read_csv('./Data/spend.csv')"
   ]
  },
  {
   "cell_type": "code",
   "execution_count": 5,
   "metadata": {
    "scrolled": true
   },
   "outputs": [
    {
     "data": {
      "text/html": [
       "<div>\n",
       "<style scoped>\n",
       "    .dataframe tbody tr th:only-of-type {\n",
       "        vertical-align: middle;\n",
       "    }\n",
       "\n",
       "    .dataframe tbody tr th {\n",
       "        vertical-align: top;\n",
       "    }\n",
       "\n",
       "    .dataframe thead th {\n",
       "        text-align: right;\n",
       "    }\n",
       "</style>\n",
       "<table border=\"1\" class=\"dataframe\">\n",
       "  <thead>\n",
       "    <tr style=\"text-align: right;\">\n",
       "      <th></th>\n",
       "      <th>No</th>\n",
       "      <th>Customer</th>\n",
       "      <th>Age</th>\n",
       "      <th>City</th>\n",
       "      <th>Product</th>\n",
       "      <th>Limit</th>\n",
       "      <th>Company</th>\n",
       "      <th>Segment</th>\n",
       "      <th>Sl No:</th>\n",
       "      <th>Month</th>\n",
       "      <th>Type</th>\n",
       "      <th>Amount</th>\n",
       "      <th>_merge</th>\n",
       "    </tr>\n",
       "  </thead>\n",
       "  <tbody>\n",
       "    <tr>\n",
       "      <th>0</th>\n",
       "      <td>1</td>\n",
       "      <td>A1</td>\n",
       "      <td>76.0</td>\n",
       "      <td>BANGALORE</td>\n",
       "      <td>Gold</td>\n",
       "      <td>500000.0</td>\n",
       "      <td>C1</td>\n",
       "      <td>Self Employed</td>\n",
       "      <td>1</td>\n",
       "      <td>12-Jan-04</td>\n",
       "      <td>JEWELLERY</td>\n",
       "      <td>485470.80</td>\n",
       "      <td>both</td>\n",
       "    </tr>\n",
       "    <tr>\n",
       "      <th>1</th>\n",
       "      <td>1</td>\n",
       "      <td>A1</td>\n",
       "      <td>76.0</td>\n",
       "      <td>BANGALORE</td>\n",
       "      <td>Gold</td>\n",
       "      <td>500000.0</td>\n",
       "      <td>C1</td>\n",
       "      <td>Self Employed</td>\n",
       "      <td>2</td>\n",
       "      <td>3-Jan-04</td>\n",
       "      <td>PETRO</td>\n",
       "      <td>410556.13</td>\n",
       "      <td>both</td>\n",
       "    </tr>\n",
       "    <tr>\n",
       "      <th>2</th>\n",
       "      <td>1</td>\n",
       "      <td>A1</td>\n",
       "      <td>76.0</td>\n",
       "      <td>BANGALORE</td>\n",
       "      <td>Gold</td>\n",
       "      <td>500000.0</td>\n",
       "      <td>C1</td>\n",
       "      <td>Self Employed</td>\n",
       "      <td>3</td>\n",
       "      <td>15-Jan-04</td>\n",
       "      <td>CLOTHES</td>\n",
       "      <td>23740.46</td>\n",
       "      <td>both</td>\n",
       "    </tr>\n",
       "    <tr>\n",
       "      <th>3</th>\n",
       "      <td>1</td>\n",
       "      <td>A1</td>\n",
       "      <td>76.0</td>\n",
       "      <td>BANGALORE</td>\n",
       "      <td>Gold</td>\n",
       "      <td>500000.0</td>\n",
       "      <td>C1</td>\n",
       "      <td>Self Employed</td>\n",
       "      <td>4</td>\n",
       "      <td>25-Jan-04</td>\n",
       "      <td>FOOD</td>\n",
       "      <td>484342.47</td>\n",
       "      <td>both</td>\n",
       "    </tr>\n",
       "    <tr>\n",
       "      <th>4</th>\n",
       "      <td>1</td>\n",
       "      <td>A1</td>\n",
       "      <td>76.0</td>\n",
       "      <td>BANGALORE</td>\n",
       "      <td>Gold</td>\n",
       "      <td>500000.0</td>\n",
       "      <td>C1</td>\n",
       "      <td>Self Employed</td>\n",
       "      <td>5</td>\n",
       "      <td>17-Jan-05</td>\n",
       "      <td>CAMERA</td>\n",
       "      <td>369694.07</td>\n",
       "      <td>both</td>\n",
       "    </tr>\n",
       "  </tbody>\n",
       "</table>\n",
       "</div>"
      ],
      "text/plain": [
       "   No Customer   Age       City Product     Limit Company        Segment  \\\n",
       "0   1       A1  76.0  BANGALORE    Gold  500000.0      C1  Self Employed   \n",
       "1   1       A1  76.0  BANGALORE    Gold  500000.0      C1  Self Employed   \n",
       "2   1       A1  76.0  BANGALORE    Gold  500000.0      C1  Self Employed   \n",
       "3   1       A1  76.0  BANGALORE    Gold  500000.0      C1  Self Employed   \n",
       "4   1       A1  76.0  BANGALORE    Gold  500000.0      C1  Self Employed   \n",
       "\n",
       "   Sl No:      Month       Type     Amount _merge  \n",
       "0       1  12-Jan-04  JEWELLERY  485470.80   both  \n",
       "1       2   3-Jan-04      PETRO  410556.13   both  \n",
       "2       3  15-Jan-04    CLOTHES   23740.46   both  \n",
       "3       4  25-Jan-04       FOOD  484342.47   both  \n",
       "4       5  17-Jan-05     CAMERA  369694.07   both  "
      ]
     },
     "execution_count": 5,
     "metadata": {},
     "output_type": "execute_result"
    }
   ],
   "source": [
    "#Merging Spend and Customer Acquistion csv files\n",
    "df1 = pd.merge(left = Customer_Acq,\n",
    "               right = Spend_amt,\n",
    "               left_on = 'Customer',\n",
    "               right_on = 'Customer',\n",
    "               how = 'inner',\n",
    "               indicator = True)\n",
    "\n",
    "Cust_limit = 0.50*df1.Limit\n",
    "df1.loc[df1['Amount']>df1['Limit'],['Amount','Limit']] = Cust_limit\n",
    "\n",
    "df1.head()"
   ]
  },
  {
   "cell_type": "markdown",
   "metadata": {},
   "source": [
    "### c. Incase the repayment amount is more than the limit, replace the repayment with the limit. "
   ]
  },
  {
   "cell_type": "code",
   "execution_count": 6,
   "metadata": {},
   "outputs": [],
   "source": [
    "Repayment = pd.read_csv('./Data/Repayment.csv')"
   ]
  },
  {
   "cell_type": "code",
   "execution_count": 7,
   "metadata": {},
   "outputs": [
    {
     "data": {
      "text/html": [
       "<div>\n",
       "<style scoped>\n",
       "    .dataframe tbody tr th:only-of-type {\n",
       "        vertical-align: middle;\n",
       "    }\n",
       "\n",
       "    .dataframe tbody tr th {\n",
       "        vertical-align: top;\n",
       "    }\n",
       "\n",
       "    .dataframe thead th {\n",
       "        text-align: right;\n",
       "    }\n",
       "</style>\n",
       "<table border=\"1\" class=\"dataframe\">\n",
       "  <thead>\n",
       "    <tr style=\"text-align: right;\">\n",
       "      <th></th>\n",
       "      <th>No</th>\n",
       "      <th>Customer</th>\n",
       "      <th>Age</th>\n",
       "      <th>City</th>\n",
       "      <th>Product</th>\n",
       "      <th>Limit</th>\n",
       "      <th>Company</th>\n",
       "      <th>Segment</th>\n",
       "      <th>SL No:</th>\n",
       "      <th>Month</th>\n",
       "      <th>Amount</th>\n",
       "      <th>_merge</th>\n",
       "    </tr>\n",
       "  </thead>\n",
       "  <tbody>\n",
       "    <tr>\n",
       "      <th>0</th>\n",
       "      <td>1</td>\n",
       "      <td>A1</td>\n",
       "      <td>76.0</td>\n",
       "      <td>BANGALORE</td>\n",
       "      <td>Gold</td>\n",
       "      <td>500000.0</td>\n",
       "      <td>C1</td>\n",
       "      <td>Self Employed</td>\n",
       "      <td>1</td>\n",
       "      <td>12-Jan-04</td>\n",
       "      <td>495414.75</td>\n",
       "      <td>both</td>\n",
       "    </tr>\n",
       "    <tr>\n",
       "      <th>1</th>\n",
       "      <td>1</td>\n",
       "      <td>A1</td>\n",
       "      <td>76.0</td>\n",
       "      <td>BANGALORE</td>\n",
       "      <td>Gold</td>\n",
       "      <td>500000.0</td>\n",
       "      <td>C1</td>\n",
       "      <td>Self Employed</td>\n",
       "      <td>2</td>\n",
       "      <td>3-Jan-04</td>\n",
       "      <td>245899.02</td>\n",
       "      <td>both</td>\n",
       "    </tr>\n",
       "    <tr>\n",
       "      <th>2</th>\n",
       "      <td>1</td>\n",
       "      <td>A1</td>\n",
       "      <td>76.0</td>\n",
       "      <td>BANGALORE</td>\n",
       "      <td>Gold</td>\n",
       "      <td>500000.0</td>\n",
       "      <td>C1</td>\n",
       "      <td>Self Employed</td>\n",
       "      <td>3</td>\n",
       "      <td>15-Jan-04</td>\n",
       "      <td>259490.06</td>\n",
       "      <td>both</td>\n",
       "    </tr>\n",
       "    <tr>\n",
       "      <th>3</th>\n",
       "      <td>1</td>\n",
       "      <td>A1</td>\n",
       "      <td>76.0</td>\n",
       "      <td>BANGALORE</td>\n",
       "      <td>Gold</td>\n",
       "      <td>500000.0</td>\n",
       "      <td>C1</td>\n",
       "      <td>Self Employed</td>\n",
       "      <td>4</td>\n",
       "      <td>25-Jan-04</td>\n",
       "      <td>437555.12</td>\n",
       "      <td>both</td>\n",
       "    </tr>\n",
       "    <tr>\n",
       "      <th>4</th>\n",
       "      <td>1</td>\n",
       "      <td>A1</td>\n",
       "      <td>76.0</td>\n",
       "      <td>BANGALORE</td>\n",
       "      <td>Gold</td>\n",
       "      <td>500000.0</td>\n",
       "      <td>C1</td>\n",
       "      <td>Self Employed</td>\n",
       "      <td>5</td>\n",
       "      <td>17-Jan-05</td>\n",
       "      <td>165972.88</td>\n",
       "      <td>both</td>\n",
       "    </tr>\n",
       "  </tbody>\n",
       "</table>\n",
       "</div>"
      ],
      "text/plain": [
       "   No Customer   Age       City Product     Limit Company        Segment  \\\n",
       "0   1       A1  76.0  BANGALORE    Gold  500000.0      C1  Self Employed   \n",
       "1   1       A1  76.0  BANGALORE    Gold  500000.0      C1  Self Employed   \n",
       "2   1       A1  76.0  BANGALORE    Gold  500000.0      C1  Self Employed   \n",
       "3   1       A1  76.0  BANGALORE    Gold  500000.0      C1  Self Employed   \n",
       "4   1       A1  76.0  BANGALORE    Gold  500000.0      C1  Self Employed   \n",
       "\n",
       "   SL No:      Month     Amount _merge  \n",
       "0       1  12-Jan-04  495414.75   both  \n",
       "1       2   3-Jan-04  245899.02   both  \n",
       "2       3  15-Jan-04  259490.06   both  \n",
       "3       4  25-Jan-04  437555.12   both  \n",
       "4       5  17-Jan-05  165972.88   both  "
      ]
     },
     "execution_count": 7,
     "metadata": {},
     "output_type": "execute_result"
    }
   ],
   "source": [
    "#Merging Repayment and Customer Acquistion csv files\n",
    "df2 = pd.merge(left = Customer_Acq,\n",
    "               right = Repayment,\n",
    "               left_on = 'Customer',\n",
    "               right_on = 'Customer',\n",
    "               how = 'inner',\n",
    "               indicator = True)\n",
    "\n",
    "df2.drop(df2.columns[11],axis=1)\n",
    "\n",
    "df2.loc[df2['Amount']>df2['Limit'],['Amount','Limit']] = df2.Limit\n",
    "\n",
    "df2.head()"
   ]
  },
  {
   "cell_type": "markdown",
   "metadata": {},
   "source": [
    "## Q2. From the above dataset create the following summaries:\n",
    "\n",
    "\n",
    "### a. How many distinct customers exist?"
   ]
  },
  {
   "cell_type": "code",
   "execution_count": 8,
   "metadata": {},
   "outputs": [
    {
     "data": {
      "text/plain": [
       "100"
      ]
     },
     "execution_count": 8,
     "metadata": {},
     "output_type": "execute_result"
    }
   ],
   "source": [
    "Customer_Acq.Customer.nunique()"
   ]
  },
  {
   "cell_type": "markdown",
   "metadata": {},
   "source": [
    "### b. How many distinct categories exist?"
   ]
  },
  {
   "cell_type": "code",
   "execution_count": 9,
   "metadata": {},
   "outputs": [
    {
     "name": "stdout",
     "output_type": "stream",
     "text": [
      "Product  3\n",
      "Segment  5\n",
      "Type    15\n"
     ]
    }
   ],
   "source": [
    "print(\"Product \",df1.Product.nunique())\n",
    "print(\"Segment \",df1.Segment.nunique())\n",
    "print(\"Type   \",df1.Type.nunique())"
   ]
  },
  {
   "cell_type": "markdown",
   "metadata": {},
   "source": [
    "### c. What is the average monthly spend by customers?"
   ]
  },
  {
   "cell_type": "code",
   "execution_count": 10,
   "metadata": {},
   "outputs": [
    {
     "data": {
      "text/html": [
       "<div>\n",
       "<style scoped>\n",
       "    .dataframe tbody tr th:only-of-type {\n",
       "        vertical-align: middle;\n",
       "    }\n",
       "\n",
       "    .dataframe tbody tr th {\n",
       "        vertical-align: top;\n",
       "    }\n",
       "\n",
       "    .dataframe thead th {\n",
       "        text-align: right;\n",
       "    }\n",
       "</style>\n",
       "<table border=\"1\" class=\"dataframe\">\n",
       "  <thead>\n",
       "    <tr style=\"text-align: right;\">\n",
       "      <th></th>\n",
       "      <th></th>\n",
       "      <th>Amount</th>\n",
       "    </tr>\n",
       "    <tr>\n",
       "      <th>Customer</th>\n",
       "      <th>month</th>\n",
       "      <th></th>\n",
       "    </tr>\n",
       "  </thead>\n",
       "  <tbody>\n",
       "    <tr>\n",
       "      <th rowspan=\"5\" valign=\"top\">A1</th>\n",
       "      <th>1</th>\n",
       "      <td>372762.587143</td>\n",
       "    </tr>\n",
       "    <tr>\n",
       "      <th>2</th>\n",
       "      <td>175235.690000</td>\n",
       "    </tr>\n",
       "    <tr>\n",
       "      <th>4</th>\n",
       "      <td>261649.250000</td>\n",
       "    </tr>\n",
       "    <tr>\n",
       "      <th>5</th>\n",
       "      <td>361141.310000</td>\n",
       "    </tr>\n",
       "    <tr>\n",
       "      <th>8</th>\n",
       "      <td>344372.100000</td>\n",
       "    </tr>\n",
       "    <tr>\n",
       "      <th>...</th>\n",
       "      <th>...</th>\n",
       "      <td>...</td>\n",
       "    </tr>\n",
       "    <tr>\n",
       "      <th>A95</th>\n",
       "      <th>1</th>\n",
       "      <td>240401.500000</td>\n",
       "    </tr>\n",
       "    <tr>\n",
       "      <th>A96</th>\n",
       "      <th>1</th>\n",
       "      <td>54729.660000</td>\n",
       "    </tr>\n",
       "    <tr>\n",
       "      <th>A97</th>\n",
       "      <th>1</th>\n",
       "      <td>5000.000000</td>\n",
       "    </tr>\n",
       "    <tr>\n",
       "      <th>A98</th>\n",
       "      <th>1</th>\n",
       "      <td>5000.500000</td>\n",
       "    </tr>\n",
       "    <tr>\n",
       "      <th>A99</th>\n",
       "      <th>1</th>\n",
       "      <td>5001.000000</td>\n",
       "    </tr>\n",
       "  </tbody>\n",
       "</table>\n",
       "<p>578 rows × 1 columns</p>\n",
       "</div>"
      ],
      "text/plain": [
       "                       Amount\n",
       "Customer month               \n",
       "A1       1      372762.587143\n",
       "         2      175235.690000\n",
       "         4      261649.250000\n",
       "         5      361141.310000\n",
       "         8      344372.100000\n",
       "...                       ...\n",
       "A95      1      240401.500000\n",
       "A96      1       54729.660000\n",
       "A97      1        5000.000000\n",
       "A98      1        5000.500000\n",
       "A99      1        5001.000000\n",
       "\n",
       "[578 rows x 1 columns]"
      ]
     },
     "metadata": {},
     "output_type": "display_data"
    }
   ],
   "source": [
    "df1['Month'] = pd.to_datetime(df1['Month'])\n",
    "df1['month'] = df1['Month'].dt.month\n",
    "\n",
    "avg_month_spend = df1.groupby([\"Customer\",\"month\"])['Amount'].mean()\n",
    "display(pd.DataFrame(avg_month_spend))"
   ]
  },
  {
   "cell_type": "markdown",
   "metadata": {},
   "source": [
    "### d. What is the average monthly repayment by customers?"
   ]
  },
  {
   "cell_type": "code",
   "execution_count": 11,
   "metadata": {
    "scrolled": false
   },
   "outputs": [
    {
     "data": {
      "text/html": [
       "<div>\n",
       "<style scoped>\n",
       "    .dataframe tbody tr th:only-of-type {\n",
       "        vertical-align: middle;\n",
       "    }\n",
       "\n",
       "    .dataframe tbody tr th {\n",
       "        vertical-align: top;\n",
       "    }\n",
       "\n",
       "    .dataframe thead th {\n",
       "        text-align: right;\n",
       "    }\n",
       "</style>\n",
       "<table border=\"1\" class=\"dataframe\">\n",
       "  <thead>\n",
       "    <tr style=\"text-align: right;\">\n",
       "      <th></th>\n",
       "      <th></th>\n",
       "      <th>Amount</th>\n",
       "    </tr>\n",
       "    <tr>\n",
       "      <th>Customer</th>\n",
       "      <th>month</th>\n",
       "      <th></th>\n",
       "    </tr>\n",
       "  </thead>\n",
       "  <tbody>\n",
       "    <tr>\n",
       "      <th rowspan=\"5\" valign=\"top\">A1</th>\n",
       "      <th>1</th>\n",
       "      <td>343972.327143</td>\n",
       "    </tr>\n",
       "    <tr>\n",
       "      <th>2</th>\n",
       "      <td>156374.760000</td>\n",
       "    </tr>\n",
       "    <tr>\n",
       "      <th>4</th>\n",
       "      <td>254474.580000</td>\n",
       "    </tr>\n",
       "    <tr>\n",
       "      <th>7</th>\n",
       "      <td>297176.740000</td>\n",
       "    </tr>\n",
       "    <tr>\n",
       "      <th>9</th>\n",
       "      <td>186427.500000</td>\n",
       "    </tr>\n",
       "    <tr>\n",
       "      <th>...</th>\n",
       "      <th>...</th>\n",
       "      <td>...</td>\n",
       "    </tr>\n",
       "    <tr>\n",
       "      <th>A95</th>\n",
       "      <th>1</th>\n",
       "      <td>369405.960000</td>\n",
       "    </tr>\n",
       "    <tr>\n",
       "      <th>A96</th>\n",
       "      <th>1</th>\n",
       "      <td>100000.000000</td>\n",
       "    </tr>\n",
       "    <tr>\n",
       "      <th>A97</th>\n",
       "      <th>1</th>\n",
       "      <td>10000.000000</td>\n",
       "    </tr>\n",
       "    <tr>\n",
       "      <th>A98</th>\n",
       "      <th>1</th>\n",
       "      <td>10001.000000</td>\n",
       "    </tr>\n",
       "    <tr>\n",
       "      <th>A99</th>\n",
       "      <th>1</th>\n",
       "      <td>10002.000000</td>\n",
       "    </tr>\n",
       "  </tbody>\n",
       "</table>\n",
       "<p>558 rows × 1 columns</p>\n",
       "</div>"
      ],
      "text/plain": [
       "                       Amount\n",
       "Customer month               \n",
       "A1       1      343972.327143\n",
       "         2      156374.760000\n",
       "         4      254474.580000\n",
       "         7      297176.740000\n",
       "         9      186427.500000\n",
       "...                       ...\n",
       "A95      1      369405.960000\n",
       "A96      1      100000.000000\n",
       "A97      1       10000.000000\n",
       "A98      1       10001.000000\n",
       "A99      1       10002.000000\n",
       "\n",
       "[558 rows x 1 columns]"
      ]
     },
     "metadata": {},
     "output_type": "display_data"
    }
   ],
   "source": [
    "df2['Month'] = pd.to_datetime(df2['Month'])\n",
    "df2['month'] = df2['Month'].dt.month\n",
    "\n",
    "avg_month_repay = df2.groupby([\"Customer\",\"month\"])['Amount'].mean()\n",
    "display(pd.DataFrame(avg_month_repay))"
   ]
  },
  {
   "cell_type": "markdown",
   "metadata": {},
   "source": [
    "### e. If the monthly rate of interest is 2.9%, what is the profit for the bank for each month?"
   ]
  },
  {
   "cell_type": "code",
   "execution_count": 12,
   "metadata": {
    "scrolled": true
   },
   "outputs": [
    {
     "data": {
      "text/plain": [
       "month\n",
       "1     3018156.34\n",
       "2     6019844.45\n",
       "3     1879245.23\n",
       "4     4546796.37\n",
       "5     4055837.08\n",
       "6      259114.30\n",
       "7     2033936.92\n",
       "8      696750.47\n",
       "9      436487.18\n",
       "10     395570.00\n",
       "11     943080.18\n",
       "12     916456.34\n",
       "Name: profit, dtype: float64"
      ]
     },
     "execution_count": 12,
     "metadata": {},
     "output_type": "execute_result"
    }
   ],
   "source": [
    "profit = df2.Amount - df1.Amount\n",
    "df2['profit'] = profit\n",
    "profit_mon = df2.groupby([\"month\"])['profit'].sum()\n",
    "\n",
    "profit_mon"
   ]
  },
  {
   "cell_type": "markdown",
   "metadata": {},
   "source": [
    "### f. What are the top 5 product types?"
   ]
  },
  {
   "cell_type": "code",
   "execution_count": 13,
   "metadata": {},
   "outputs": [
    {
     "data": {
      "text/html": [
       "<div>\n",
       "<style scoped>\n",
       "    .dataframe tbody tr th:only-of-type {\n",
       "        vertical-align: middle;\n",
       "    }\n",
       "\n",
       "    .dataframe tbody tr th {\n",
       "        vertical-align: top;\n",
       "    }\n",
       "\n",
       "    .dataframe thead th {\n",
       "        text-align: right;\n",
       "    }\n",
       "</style>\n",
       "<table border=\"1\" class=\"dataframe\">\n",
       "  <thead>\n",
       "    <tr style=\"text-align: right;\">\n",
       "      <th></th>\n",
       "      <th>Type</th>\n",
       "      <th>Sl No:</th>\n",
       "      <th>Amount</th>\n",
       "    </tr>\n",
       "  </thead>\n",
       "  <tbody>\n",
       "    <tr>\n",
       "      <th>0</th>\n",
       "      <td>PETRO</td>\n",
       "      <td>146920</td>\n",
       "      <td>49863174.09</td>\n",
       "    </tr>\n",
       "    <tr>\n",
       "      <th>1</th>\n",
       "      <td>CAMERA</td>\n",
       "      <td>113612</td>\n",
       "      <td>41481571.96</td>\n",
       "    </tr>\n",
       "    <tr>\n",
       "      <th>2</th>\n",
       "      <td>FOOD</td>\n",
       "      <td>110164</td>\n",
       "      <td>37773338.43</td>\n",
       "    </tr>\n",
       "    <tr>\n",
       "      <th>3</th>\n",
       "      <td>TRAIN TICKET</td>\n",
       "      <td>90087</td>\n",
       "      <td>33067077.15</td>\n",
       "    </tr>\n",
       "    <tr>\n",
       "      <th>4</th>\n",
       "      <td>AIR TICKET</td>\n",
       "      <td>117877</td>\n",
       "      <td>32955445.42</td>\n",
       "    </tr>\n",
       "  </tbody>\n",
       "</table>\n",
       "</div>"
      ],
      "text/plain": [
       "           Type  Sl No:       Amount\n",
       "0         PETRO  146920  49863174.09\n",
       "1        CAMERA  113612  41481571.96\n",
       "2          FOOD  110164  37773338.43\n",
       "3  TRAIN TICKET   90087  33067077.15\n",
       "4    AIR TICKET  117877  32955445.42"
      ]
     },
     "metadata": {},
     "output_type": "display_data"
    }
   ],
   "source": [
    "Top_5 = Spend_amt.groupby('Type').sum().sort_values(\"Amount\",ascending = False).head(5)\n",
    "t = (Top_5).reset_index()\n",
    "\n",
    "display(t)"
   ]
  },
  {
   "cell_type": "markdown",
   "metadata": {},
   "source": [
    "### g. Which city is having maximum spend?"
   ]
  },
  {
   "cell_type": "code",
   "execution_count": 14,
   "metadata": {},
   "outputs": [
    {
     "data": {
      "text/plain": [
       "City\n",
       "COCHIN    45963513.5\n",
       "Name: Amount, dtype: float64"
      ]
     },
     "execution_count": 14,
     "metadata": {},
     "output_type": "execute_result"
    }
   ],
   "source": [
    "group_city = df1.groupby(['City'])['Amount'].sum()\n",
    "group_city.nlargest(1)"
   ]
  },
  {
   "cell_type": "markdown",
   "metadata": {},
   "source": [
    "### h. Which age group is spending more money?"
   ]
  },
  {
   "cell_type": "code",
   "execution_count": 15,
   "metadata": {},
   "outputs": [
    {
     "data": {
      "text/plain": [
       "Age\n",
       "28.0    17365270.23\n",
       "Name: Amount, dtype: float64"
      ]
     },
     "execution_count": 15,
     "metadata": {},
     "output_type": "execute_result"
    }
   ],
   "source": [
    "group_age = df1.groupby('Age').sum()\n",
    "amount_spend =  group_age['Amount']\n",
    "amount_spend.nlargest(1)"
   ]
  },
  {
   "cell_type": "markdown",
   "metadata": {},
   "source": [
    "### i. Who are the top 10 customers in terms of repayment?"
   ]
  },
  {
   "cell_type": "code",
   "execution_count": 16,
   "metadata": {},
   "outputs": [
    {
     "data": {
      "text/html": [
       "<div>\n",
       "<style scoped>\n",
       "    .dataframe tbody tr th:only-of-type {\n",
       "        vertical-align: middle;\n",
       "    }\n",
       "\n",
       "    .dataframe tbody tr th {\n",
       "        vertical-align: top;\n",
       "    }\n",
       "\n",
       "    .dataframe thead th {\n",
       "        text-align: right;\n",
       "    }\n",
       "</style>\n",
       "<table border=\"1\" class=\"dataframe\">\n",
       "  <thead>\n",
       "    <tr style=\"text-align: right;\">\n",
       "      <th></th>\n",
       "      <th>No</th>\n",
       "      <th>Age</th>\n",
       "      <th>Limit</th>\n",
       "      <th>SL No:</th>\n",
       "      <th>Amount</th>\n",
       "      <th>month</th>\n",
       "      <th>profit</th>\n",
       "    </tr>\n",
       "    <tr>\n",
       "      <th>Customer</th>\n",
       "      <th></th>\n",
       "      <th></th>\n",
       "      <th></th>\n",
       "      <th></th>\n",
       "      <th></th>\n",
       "      <th></th>\n",
       "      <th></th>\n",
       "    </tr>\n",
       "  </thead>\n",
       "  <tbody>\n",
       "    <tr>\n",
       "      <th>A61</th>\n",
       "      <td>2318</td>\n",
       "      <td>1672.00</td>\n",
       "      <td>19000000.0</td>\n",
       "      <td>45502</td>\n",
       "      <td>10539142.91</td>\n",
       "      <td>159</td>\n",
       "      <td>1536816.52</td>\n",
       "    </tr>\n",
       "    <tr>\n",
       "      <th>A60</th>\n",
       "      <td>2280</td>\n",
       "      <td>1064.00</td>\n",
       "      <td>19000000.0</td>\n",
       "      <td>45464</td>\n",
       "      <td>9876290.74</td>\n",
       "      <td>146</td>\n",
       "      <td>-1144640.24</td>\n",
       "    </tr>\n",
       "    <tr>\n",
       "      <th>A13</th>\n",
       "      <td>403</td>\n",
       "      <td>899.00</td>\n",
       "      <td>15500000.0</td>\n",
       "      <td>10148</td>\n",
       "      <td>9572000.66</td>\n",
       "      <td>134</td>\n",
       "      <td>1340393.40</td>\n",
       "    </tr>\n",
       "    <tr>\n",
       "      <th>A43</th>\n",
       "      <td>1333</td>\n",
       "      <td>651.00</td>\n",
       "      <td>15500000.0</td>\n",
       "      <td>31424</td>\n",
       "      <td>8489871.46</td>\n",
       "      <td>117</td>\n",
       "      <td>1782083.54</td>\n",
       "    </tr>\n",
       "    <tr>\n",
       "      <th>A45</th>\n",
       "      <td>1395</td>\n",
       "      <td>2077.00</td>\n",
       "      <td>15500000.0</td>\n",
       "      <td>31486</td>\n",
       "      <td>8448334.87</td>\n",
       "      <td>119</td>\n",
       "      <td>1458090.77</td>\n",
       "    </tr>\n",
       "    <tr>\n",
       "      <th>A12</th>\n",
       "      <td>372</td>\n",
       "      <td>1581.00</td>\n",
       "      <td>15500000.0</td>\n",
       "      <td>10117</td>\n",
       "      <td>8334760.16</td>\n",
       "      <td>123</td>\n",
       "      <td>151709.52</td>\n",
       "    </tr>\n",
       "    <tr>\n",
       "      <th>A14</th>\n",
       "      <td>434</td>\n",
       "      <td>1441.19</td>\n",
       "      <td>15500000.0</td>\n",
       "      <td>10179</td>\n",
       "      <td>7943268.63</td>\n",
       "      <td>137</td>\n",
       "      <td>282182.43</td>\n",
       "    </tr>\n",
       "    <tr>\n",
       "      <th>A44</th>\n",
       "      <td>1364</td>\n",
       "      <td>868.00</td>\n",
       "      <td>15500000.0</td>\n",
       "      <td>31455</td>\n",
       "      <td>7744730.12</td>\n",
       "      <td>126</td>\n",
       "      <td>1555390.87</td>\n",
       "    </tr>\n",
       "    <tr>\n",
       "      <th>A39</th>\n",
       "      <td>1209</td>\n",
       "      <td>2418.00</td>\n",
       "      <td>15500000.0</td>\n",
       "      <td>31300</td>\n",
       "      <td>7622483.30</td>\n",
       "      <td>142</td>\n",
       "      <td>-128024.92</td>\n",
       "    </tr>\n",
       "    <tr>\n",
       "      <th>A42</th>\n",
       "      <td>1302</td>\n",
       "      <td>1550.00</td>\n",
       "      <td>15500000.0</td>\n",
       "      <td>31393</td>\n",
       "      <td>7615460.86</td>\n",
       "      <td>115</td>\n",
       "      <td>499235.12</td>\n",
       "    </tr>\n",
       "  </tbody>\n",
       "</table>\n",
       "</div>"
      ],
      "text/plain": [
       "            No      Age       Limit  SL No:       Amount  month      profit\n",
       "Customer                                                                   \n",
       "A61       2318  1672.00  19000000.0   45502  10539142.91    159  1536816.52\n",
       "A60       2280  1064.00  19000000.0   45464   9876290.74    146 -1144640.24\n",
       "A13        403   899.00  15500000.0   10148   9572000.66    134  1340393.40\n",
       "A43       1333   651.00  15500000.0   31424   8489871.46    117  1782083.54\n",
       "A45       1395  2077.00  15500000.0   31486   8448334.87    119  1458090.77\n",
       "A12        372  1581.00  15500000.0   10117   8334760.16    123   151709.52\n",
       "A14        434  1441.19  15500000.0   10179   7943268.63    137   282182.43\n",
       "A44       1364   868.00  15500000.0   31455   7744730.12    126  1555390.87\n",
       "A39       1209  2418.00  15500000.0   31300   7622483.30    142  -128024.92\n",
       "A42       1302  1550.00  15500000.0   31393   7615460.86    115   499235.12"
      ]
     },
     "metadata": {},
     "output_type": "display_data"
    }
   ],
   "source": [
    "Top_10 = df2.groupby('Customer').sum().sort_values(\"Amount\",ascending = False).head(10)\n",
    "t = Top_10\n",
    "display(t)"
   ]
  },
  {
   "cell_type": "markdown",
   "metadata": {},
   "source": [
    "## Q3. Calculate the city wise spend on each product on yearly basis. Also include a graphical representation for the same."
   ]
  },
  {
   "cell_type": "code",
   "execution_count": 17,
   "metadata": {
    "scrolled": false
   },
   "outputs": [
    {
     "data": {
      "image/png": "[encoded data removed]",
      "text/plain": [
       "<Figure size 864x432 with 1 Axes>"
      ]
     },
     "metadata": {},
     "output_type": "display_data"
    }
   ],
   "source": [
    "df1['Month'] = pd.to_datetime(df1['Month'])\n",
    "df1['year'] = df1['Month'].dt.year\n",
    "g = df1.groupby([\"City\",\"Product\",\"year\"])            \n",
    "tot_amount = g[[\"Amount\"]].sum().add_prefix(\"Total_\")\n",
    "tot_amount\n",
    "\n",
    "\n",
    "#Graph\n",
    "sns.set()\n",
    "pd.pivot_table(df1, index =['City','Product'],columns ='year',values ='Amount').plot.bar(figsize=(12,6))\n",
    "plt.ylabel('Total amount spend')\n",
    "plt.show()"
   ]
  },
  {
   "cell_type": "markdown",
   "metadata": {},
   "source": [
    "## Q4. Create graphs for -\n",
    "\n",
    "### a. Monthly comparison of total spends, city wise"
   ]
  },
  {
   "cell_type": "code",
   "execution_count": 18,
   "metadata": {},
   "outputs": [
    {
     "name": "stderr",
     "output_type": "stream",
     "text": [
      "<ipython-input-18-9fd87411825a>:9: MatplotlibDeprecationWarning: Adding an axes using the same arguments as a previous axes currently reuses the earlier instance.  In a future version, a new instance will always be created and returned.  Meanwhile, this warning can be suppressed, and the future behavior ensured, by passing a unique label to each axes instance.\n",
      "  ax = plt.subplot(111)\n"
     ]
    },
    {
     "data": {
      "image/png": "[encoded data removed]",
      "text/plain": [
       "<Figure size 1296x432 with 1 Axes>"
      ]
     },
     "metadata": {},
     "output_type": "display_data"
    }
   ],
   "source": [
    "# sns.set()\n",
    "# pd.pivot_table(df1, index ='Month',columns = 'City',values = 'Amount').plot(kind='bar')\n",
    "# plt.ylabel(\"Total amount spend\")\n",
    "\n",
    "df1['Month'] = pd.to_datetime(df1['Month'])\n",
    "df1['month'] = df1['Month'].dt.month\n",
    "sns.set()\n",
    "pd.pivot_table(df1, index ='City',columns ='month',values=\"Amount\").plot(kind='bar',figsize=(18,6))\n",
    "ax = plt.subplot(111)\n",
    "ax.legend(loc='upper center', bbox_to_anchor=(1.045,1), shadow=True, ncol=1)\n",
    "plt.ylabel('Total amount spend')\n",
    "plt.show()"
   ]
  },
  {
   "cell_type": "markdown",
   "metadata": {},
   "source": [
    "### b. Comparison of yearly spend on air tickets"
   ]
  },
  {
   "cell_type": "code",
   "execution_count": 19,
   "metadata": {},
   "outputs": [
    {
     "data": {
      "image/png": "[encoded data removed]",
      "text/plain": [
       "<Figure size 576x432 with 1 Axes>"
      ]
     },
     "metadata": {},
     "output_type": "display_data"
    }
   ],
   "source": [
    "df1['Month'] = pd.to_datetime(df1['Month'])\n",
    "df1['Year'] = df1['Month'].dt.year\n",
    "\n",
    "s = df1.loc[(df1.Type == 'AIR TICKET')]\n",
    "spend = s.groupby(['Year']).aggregate({'Amount':['sum']})\n",
    "\n",
    "spendgraph=spend.plot.bar(figsize=(8,6))\n",
    "plt.legend()\n",
    "plt.ylabel('Total amount spend on Air tickets')\n",
    "plt.show()"
   ]
  },
  {
   "cell_type": "markdown",
   "metadata": {},
   "source": [
    "### c. Comparison of monthly spend for each product"
   ]
  },
  {
   "cell_type": "code",
   "execution_count": 20,
   "metadata": {},
   "outputs": [
    {
     "data": {
      "image/png": "[encoded data removed]",
      "text/plain": [
       "<Figure size 1296x432 with 1 Axes>"
      ]
     },
     "metadata": {},
     "output_type": "display_data"
    }
   ],
   "source": [
    "df1['Month'] = pd.to_datetime(df1['Month'])\n",
    "df1['month'] = df1['Month'].dt.month\n",
    "g = df1.groupby([\"Product\",\"month\"])            \n",
    "tot_amount = g[[\"Amount\"]].sum().add_prefix(\"Total_\")\n",
    "tot_amount\n",
    "\n",
    "\n",
    "#Graph\n",
    "sns.set()\n",
    "pd.pivot_table(df1, index ='Product',columns ='month',values ='Amount').plot.bar(figsize=(18,6))\n",
    "plt.ylabel('Monthly amount spend')\n",
    "plt.show()"
   ]
  }
 ],
 "metadata": {
  "kernelspec": {
   "display_name": "Python 3",
   "language": "python",
   "name": "python3"
  },
  "language_info": {
   "codemirror_mode": {
    "name": "ipython",
    "version": 3
   },
   "file_extension": ".py",
   "mimetype": "text/x-python",
   "name": "python",
   "nbconvert_exporter": "python",
   "pygments_lexer": "ipython3",
   "version": "3.8.8"
  }
 },
 "nbformat": 4,
 "nbformat_minor": 2
}
