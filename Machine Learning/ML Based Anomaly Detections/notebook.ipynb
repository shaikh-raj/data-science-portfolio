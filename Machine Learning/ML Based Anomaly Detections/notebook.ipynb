{
 "cells": [
  {
   "cell_type": "markdown",
   "metadata": {},
   "source": [
    "# Unsupervised Learning: Anomaly Detection"
   ]
  },
  {
   "cell_type": "code",
   "execution_count": 1,
   "metadata": {},
   "outputs": [],
   "source": [
    "#import the libraries\n",
    "import pandas as pd\n",
    "import numpy as np\n",
    "import seaborn as sns\n",
    "from matplotlib import pyplot as plt\n",
    "from pycaret.anomaly import *\n",
    "from sklearn import preprocessing\n",
    "from sklearn.ensemble import IsolationForest\n",
    "from scipy.stats import kurtosis\n",
    "from sklearn.decomposition import PCA\n",
    "import numpy as np\n",
    "from mpl_toolkits.mplot3d import Axes3D\n",
    "import ipympl\n",
    "\n",
    "%matplotlib inline"
   ]
  },
  {
   "cell_type": "markdown",
   "metadata": {},
   "source": [
    "# Importing Data"
   ]
  },
  {
   "cell_type": "code",
   "execution_count": 2,
   "metadata": {},
   "outputs": [],
   "source": [
    "df = pd.read_csv('./Data/data.csv', sep= ';')\n",
    "\n",
    "df_original = df.copy()"
   ]
  },
  {
   "cell_type": "markdown",
   "metadata": {},
   "source": [
    "# Data Transformation"
   ]
  },
  {
   "cell_type": "markdown",
   "metadata": {},
   "source": [
    "## Normalizing the numerical variables"
   ]
  },
  {
   "cell_type": "code",
   "execution_count": 3,
   "metadata": {},
   "outputs": [],
   "source": [
    "# normalizing the numerical behavioural variables\n",
    "df_numerical = df.drop([\"idnr\",\"b2\",\"c3\",\"c9\",\"c15\",\"c18\",\"c19\",\"c20\",\"c26\",\"c29\"], 1)\n",
    "df_numerical_n = pd.DataFrame(preprocessing.normalize(df_numerical))\n",
    "df_numerical_n.columns = df_numerical.columns"
   ]
  },
  {
   "cell_type": "markdown",
   "metadata": {},
   "source": [
    "## Transforming string attributes to categorical attributes with integers"
   ]
  },
  {
   "cell_type": "code",
   "execution_count": 4,
   "metadata": {},
   "outputs": [],
   "source": [
    "# conveting strings to categorical attributes to use it in the training and prrediction\n",
    "df[[\"b2\",\"c3\",\"c9\",\"c15\",\"c18\",\"c19\",\"c20\",\"c26\",\"c29\"]] = df[[\"b2\",\"c3\",\"c9\",\"c15\",\"c18\",\"c19\",\"c20\",\"c26\",\"c29\"]].apply(lambda z: z.astype('category').cat.codes)"
   ]
  },
  {
   "cell_type": "code",
   "execution_count": 5,
   "metadata": {},
   "outputs": [],
   "source": [
    "df_processed = pd.concat([df[[\"idnr\",\"b2\",\"c3\",\"c9\",\"c15\",\"c18\",\"c19\",\"c20\",\"c26\",\"c29\"]], df_numerical_n], 1)"
   ]
  },
  {
   "cell_type": "markdown",
   "metadata": {},
   "source": [
    "# PCA for reducing the dimension of contextual variables"
   ]
  },
  {
   "cell_type": "code",
   "execution_count": 6,
   "metadata": {},
   "outputs": [],
   "source": [
    "# dropping behavioural attributes and idnr \n",
    "df_contextual = df_processed.drop([\"idnr\", \"b1\", \"b2\", \"b3\", \"b4\"], 1)"
   ]
  },
  {
   "cell_type": "code",
   "execution_count": 7,
   "metadata": {},
   "outputs": [
    {
     "data": {
      "text/html": [
       "<div>\n",
       "<style scoped>\n",
       "    .dataframe tbody tr th:only-of-type {\n",
       "        vertical-align: middle;\n",
       "    }\n",
       "\n",
       "    .dataframe tbody tr th {\n",
       "        vertical-align: top;\n",
       "    }\n",
       "\n",
       "    .dataframe thead th {\n",
       "        text-align: right;\n",
       "    }\n",
       "</style>\n",
       "<table border=\"1\" class=\"dataframe\">\n",
       "  <thead>\n",
       "    <tr style=\"text-align: right;\">\n",
       "      <th></th>\n",
       "      <th>PC 1</th>\n",
       "      <th>PC 2</th>\n",
       "      <th>PC 3</th>\n",
       "      <th>PC 4</th>\n",
       "      <th>PC 5</th>\n",
       "      <th>PC 6</th>\n",
       "      <th>PC 7</th>\n",
       "      <th>PC 8</th>\n",
       "      <th>PC 9</th>\n",
       "      <th>PC 10</th>\n",
       "    </tr>\n",
       "  </thead>\n",
       "  <tbody>\n",
       "    <tr>\n",
       "      <th>0</th>\n",
       "      <td>-0.335505</td>\n",
       "      <td>-0.283181</td>\n",
       "      <td>-0.059268</td>\n",
       "      <td>0.035269</td>\n",
       "      <td>-0.018529</td>\n",
       "      <td>-0.013064</td>\n",
       "      <td>-0.004328</td>\n",
       "      <td>-0.000947</td>\n",
       "      <td>-0.000474</td>\n",
       "      <td>0.000057</td>\n",
       "    </tr>\n",
       "    <tr>\n",
       "      <th>1</th>\n",
       "      <td>0.298027</td>\n",
       "      <td>1.077649</td>\n",
       "      <td>-0.048181</td>\n",
       "      <td>-0.050618</td>\n",
       "      <td>0.043428</td>\n",
       "      <td>0.002958</td>\n",
       "      <td>-0.036692</td>\n",
       "      <td>0.000042</td>\n",
       "      <td>0.003584</td>\n",
       "      <td>-0.000765</td>\n",
       "    </tr>\n",
       "    <tr>\n",
       "      <th>2</th>\n",
       "      <td>-0.357351</td>\n",
       "      <td>-0.307636</td>\n",
       "      <td>-0.145480</td>\n",
       "      <td>0.027962</td>\n",
       "      <td>-0.017973</td>\n",
       "      <td>-0.014504</td>\n",
       "      <td>-0.000582</td>\n",
       "      <td>-0.001115</td>\n",
       "      <td>-0.000948</td>\n",
       "      <td>0.000679</td>\n",
       "    </tr>\n",
       "    <tr>\n",
       "      <th>3</th>\n",
       "      <td>-0.324380</td>\n",
       "      <td>-0.306372</td>\n",
       "      <td>-0.066071</td>\n",
       "      <td>-0.071212</td>\n",
       "      <td>-0.004053</td>\n",
       "      <td>-0.007897</td>\n",
       "      <td>-0.004680</td>\n",
       "      <td>-0.000867</td>\n",
       "      <td>0.001184</td>\n",
       "      <td>-0.000303</td>\n",
       "    </tr>\n",
       "    <tr>\n",
       "      <th>4</th>\n",
       "      <td>-0.304737</td>\n",
       "      <td>-0.285632</td>\n",
       "      <td>0.009656</td>\n",
       "      <td>-0.068382</td>\n",
       "      <td>-0.004095</td>\n",
       "      <td>-0.006450</td>\n",
       "      <td>-0.009808</td>\n",
       "      <td>-0.000716</td>\n",
       "      <td>0.001370</td>\n",
       "      <td>-0.000154</td>\n",
       "    </tr>\n",
       "    <tr>\n",
       "      <th>...</th>\n",
       "      <td>...</td>\n",
       "      <td>...</td>\n",
       "      <td>...</td>\n",
       "      <td>...</td>\n",
       "      <td>...</td>\n",
       "      <td>...</td>\n",
       "      <td>...</td>\n",
       "      <td>...</td>\n",
       "      <td>...</td>\n",
       "      <td>...</td>\n",
       "    </tr>\n",
       "    <tr>\n",
       "      <th>78759</th>\n",
       "      <td>-0.341568</td>\n",
       "      <td>-0.280418</td>\n",
       "      <td>-0.069614</td>\n",
       "      <td>0.062787</td>\n",
       "      <td>-0.022337</td>\n",
       "      <td>-0.014653</td>\n",
       "      <td>-0.003860</td>\n",
       "      <td>-0.000992</td>\n",
       "      <td>-0.000686</td>\n",
       "      <td>0.000334</td>\n",
       "    </tr>\n",
       "    <tr>\n",
       "      <th>78760</th>\n",
       "      <td>-0.330724</td>\n",
       "      <td>-0.270356</td>\n",
       "      <td>-0.029779</td>\n",
       "      <td>0.060036</td>\n",
       "      <td>-0.021778</td>\n",
       "      <td>-0.013681</td>\n",
       "      <td>-0.006368</td>\n",
       "      <td>-0.000909</td>\n",
       "      <td>-0.000647</td>\n",
       "      <td>-0.000124</td>\n",
       "    </tr>\n",
       "    <tr>\n",
       "      <th>78761</th>\n",
       "      <td>-0.334567</td>\n",
       "      <td>-0.282233</td>\n",
       "      <td>-0.055723</td>\n",
       "      <td>0.035342</td>\n",
       "      <td>-0.018547</td>\n",
       "      <td>-0.012992</td>\n",
       "      <td>-0.005527</td>\n",
       "      <td>-0.000940</td>\n",
       "      <td>-0.000486</td>\n",
       "      <td>0.000223</td>\n",
       "    </tr>\n",
       "    <tr>\n",
       "      <th>78762</th>\n",
       "      <td>0.243120</td>\n",
       "      <td>1.023344</td>\n",
       "      <td>-0.254657</td>\n",
       "      <td>-0.047789</td>\n",
       "      <td>0.042370</td>\n",
       "      <td>-0.001541</td>\n",
       "      <td>-0.010399</td>\n",
       "      <td>-0.000391</td>\n",
       "      <td>0.011941</td>\n",
       "      <td>0.001162</td>\n",
       "    </tr>\n",
       "    <tr>\n",
       "      <th>78763</th>\n",
       "      <td>-0.257134</td>\n",
       "      <td>-0.211908</td>\n",
       "      <td>0.226566</td>\n",
       "      <td>0.010803</td>\n",
       "      <td>-0.013806</td>\n",
       "      <td>-0.005855</td>\n",
       "      <td>-0.020176</td>\n",
       "      <td>-0.000347</td>\n",
       "      <td>0.000981</td>\n",
       "      <td>-0.000066</td>\n",
       "    </tr>\n",
       "  </tbody>\n",
       "</table>\n",
       "<p>78764 rows × 10 columns</p>\n",
       "</div>"
      ],
      "text/plain": [
       "           PC 1      PC 2      PC 3      PC 4      PC 5      PC 6      PC 7  \\\n",
       "0     -0.335505 -0.283181 -0.059268  0.035269 -0.018529 -0.013064 -0.004328   \n",
       "1      0.298027  1.077649 -0.048181 -0.050618  0.043428  0.002958 -0.036692   \n",
       "2     -0.357351 -0.307636 -0.145480  0.027962 -0.017973 -0.014504 -0.000582   \n",
       "3     -0.324380 -0.306372 -0.066071 -0.071212 -0.004053 -0.007897 -0.004680   \n",
       "4     -0.304737 -0.285632  0.009656 -0.068382 -0.004095 -0.006450 -0.009808   \n",
       "...         ...       ...       ...       ...       ...       ...       ...   \n",
       "78759 -0.341568 -0.280418 -0.069614  0.062787 -0.022337 -0.014653 -0.003860   \n",
       "78760 -0.330724 -0.270356 -0.029779  0.060036 -0.021778 -0.013681 -0.006368   \n",
       "78761 -0.334567 -0.282233 -0.055723  0.035342 -0.018547 -0.012992 -0.005527   \n",
       "78762  0.243120  1.023344 -0.254657 -0.047789  0.042370 -0.001541 -0.010399   \n",
       "78763 -0.257134 -0.211908  0.226566  0.010803 -0.013806 -0.005855 -0.020176   \n",
       "\n",
       "           PC 8      PC 9     PC 10  \n",
       "0     -0.000947 -0.000474  0.000057  \n",
       "1      0.000042  0.003584 -0.000765  \n",
       "2     -0.001115 -0.000948  0.000679  \n",
       "3     -0.000867  0.001184 -0.000303  \n",
       "4     -0.000716  0.001370 -0.000154  \n",
       "...         ...       ...       ...  \n",
       "78759 -0.000992 -0.000686  0.000334  \n",
       "78760 -0.000909 -0.000647 -0.000124  \n",
       "78761 -0.000940 -0.000486  0.000223  \n",
       "78762 -0.000391  0.011941  0.001162  \n",
       "78763 -0.000347  0.000981 -0.000066  \n",
       "\n",
       "[78764 rows x 10 columns]"
      ]
     },
     "execution_count": 7,
     "metadata": {},
     "output_type": "execute_result"
    }
   ],
   "source": [
    "# we will initially divide to 10 PCs\n",
    "pca = PCA(n_components=10)\n",
    "PCs = pca.fit_transform(df_contextual)\n",
    "principalDf = pd.DataFrame(data = PCs, columns = ['PC 1', 'PC 2', 'PC 3', 'PC 4', 'PC 5', 'PC 6','PC 7', 'PC 8', 'PC 9', 'PC 10'])\n",
    "principalDf"
   ]
  },
  {
   "cell_type": "code",
   "execution_count": 8,
   "metadata": {},
   "outputs": [
    {
     "data": {
      "text/plain": [
       "Text(0, 0.5, 'PV')"
      ]
     },
     "execution_count": 8,
     "metadata": {},
     "output_type": "execute_result"
    },
    {
     "data": {
      "image/png": "[encoded data removed]",
      "text/plain": [
       "<Figure size 432x288 with 1 Axes>"
      ]
     },
     "metadata": {
      "needs_background": "light"
     },
     "output_type": "display_data"
    }
   ],
   "source": [
    "# drawing the Percentage Variation explained per PC\n",
    "PC_values = np.arange(pca.n_components_) + 1\n",
    "plt.plot(PC_values, pca.explained_variance_ratio_, 'ro-', linewidth=2, color = \"purple\")\n",
    "plt.title('Scree Plot for PCA')\n",
    "plt.xlabel('Principal Component')\n",
    "plt.ylabel('PV')\n",
    "#plt.show()"
   ]
  },
  {
   "cell_type": "code",
   "execution_count": 9,
   "metadata": {},
   "outputs": [
    {
     "name": "stdout",
     "output_type": "stream",
     "text": [
      "Cumulative PV Explained: \n",
      "       cumPV%\n",
      "0  54.691843\n",
      "1  91.066548\n",
      "2  95.823379\n",
      "3  97.602504\n",
      "4  98.938767\n",
      "5  99.594573\n",
      "6  99.893337\n",
      "7  99.946580\n",
      "8  99.967522\n",
      "9  99.986278\n"
     ]
    }
   ],
   "source": [
    "# cumulative percentage variance per PC\n",
    "out_sum = pd.DataFrame(np.cumsum(pca.explained_variance_ratio_)*100, columns = [\"cumPV%\"] ) \n",
    "print (\"Cumulative PV Explained: \\n\", out_sum)"
   ]
  },
  {
   "cell_type": "markdown",
   "metadata": {},
   "source": [
    "#### Elbow occures between PC3 and PC4, to keep as much as possible info we will use 4 PCs whicch explain 98% of the variation "
   ]
  },
  {
   "cell_type": "code",
   "execution_count": 10,
   "metadata": {},
   "outputs": [],
   "source": [
    "PC_contextual = principalDf[['PC 1', 'PC 2', 'PC 3', 'PC 4']]"
   ]
  },
  {
   "cell_type": "markdown",
   "metadata": {},
   "source": [
    "# Updating Data with Contextual PCs"
   ]
  },
  {
   "cell_type": "code",
   "execution_count": 11,
   "metadata": {},
   "outputs": [],
   "source": [
    "# combining 4PCs for contextual attributs with the scaled behavioural attributes\n",
    "df_dim_reduced = pd.concat([df_processed[[\"idnr\", \"b1\", \"b2\", \"b3\", \"b4\"]], PC_contextual],1)"
   ]
  },
  {
   "cell_type": "code",
   "execution_count": 12,
   "metadata": {},
   "outputs": [
    {
     "data": {
      "text/html": [
       "<div>\n",
       "<style scoped>\n",
       "    .dataframe tbody tr th:only-of-type {\n",
       "        vertical-align: middle;\n",
       "    }\n",
       "\n",
       "    .dataframe tbody tr th {\n",
       "        vertical-align: top;\n",
       "    }\n",
       "\n",
       "    .dataframe thead th {\n",
       "        text-align: right;\n",
       "    }\n",
       "</style>\n",
       "<table border=\"1\" class=\"dataframe\">\n",
       "  <thead>\n",
       "    <tr style=\"text-align: right;\">\n",
       "      <th></th>\n",
       "      <th>b1</th>\n",
       "      <th>b2</th>\n",
       "      <th>b3</th>\n",
       "      <th>b4</th>\n",
       "      <th>PC 1</th>\n",
       "      <th>PC 2</th>\n",
       "      <th>PC 3</th>\n",
       "      <th>PC 4</th>\n",
       "    </tr>\n",
       "  </thead>\n",
       "  <tbody>\n",
       "    <tr>\n",
       "      <th>0</th>\n",
       "      <td>0.000000</td>\n",
       "      <td>17</td>\n",
       "      <td>0.111717</td>\n",
       "      <td>0.985012</td>\n",
       "      <td>-0.335505</td>\n",
       "      <td>-0.283181</td>\n",
       "      <td>-0.059268</td>\n",
       "      <td>0.035269</td>\n",
       "    </tr>\n",
       "    <tr>\n",
       "      <th>1</th>\n",
       "      <td>0.000000</td>\n",
       "      <td>9</td>\n",
       "      <td>0.447397</td>\n",
       "      <td>0.617834</td>\n",
       "      <td>0.298027</td>\n",
       "      <td>1.077649</td>\n",
       "      <td>-0.048181</td>\n",
       "      <td>-0.050618</td>\n",
       "    </tr>\n",
       "    <tr>\n",
       "      <th>2</th>\n",
       "      <td>0.000000</td>\n",
       "      <td>17</td>\n",
       "      <td>0.021192</td>\n",
       "      <td>0.999022</td>\n",
       "      <td>-0.357351</td>\n",
       "      <td>-0.307636</td>\n",
       "      <td>-0.145480</td>\n",
       "      <td>0.027962</td>\n",
       "    </tr>\n",
       "    <tr>\n",
       "      <th>3</th>\n",
       "      <td>0.000000</td>\n",
       "      <td>17</td>\n",
       "      <td>0.152432</td>\n",
       "      <td>0.975689</td>\n",
       "      <td>-0.324380</td>\n",
       "      <td>-0.306372</td>\n",
       "      <td>-0.066071</td>\n",
       "      <td>-0.071212</td>\n",
       "    </tr>\n",
       "    <tr>\n",
       "      <th>4</th>\n",
       "      <td>0.000000</td>\n",
       "      <td>17</td>\n",
       "      <td>0.198461</td>\n",
       "      <td>0.953975</td>\n",
       "      <td>-0.304737</td>\n",
       "      <td>-0.285632</td>\n",
       "      <td>0.009656</td>\n",
       "      <td>-0.068382</td>\n",
       "    </tr>\n",
       "    <tr>\n",
       "      <th>...</th>\n",
       "      <td>...</td>\n",
       "      <td>...</td>\n",
       "      <td>...</td>\n",
       "      <td>...</td>\n",
       "      <td>...</td>\n",
       "      <td>...</td>\n",
       "      <td>...</td>\n",
       "      <td>...</td>\n",
       "    </tr>\n",
       "    <tr>\n",
       "      <th>78759</th>\n",
       "      <td>0.000000</td>\n",
       "      <td>16</td>\n",
       "      <td>0.966916</td>\n",
       "      <td>0.221437</td>\n",
       "      <td>-0.341568</td>\n",
       "      <td>-0.280418</td>\n",
       "      <td>-0.069614</td>\n",
       "      <td>0.062787</td>\n",
       "    </tr>\n",
       "    <tr>\n",
       "      <th>78760</th>\n",
       "      <td>0.000000</td>\n",
       "      <td>16</td>\n",
       "      <td>0.971001</td>\n",
       "      <td>0.171076</td>\n",
       "      <td>-0.330724</td>\n",
       "      <td>-0.270356</td>\n",
       "      <td>-0.029779</td>\n",
       "      <td>0.060036</td>\n",
       "    </tr>\n",
       "    <tr>\n",
       "      <th>78761</th>\n",
       "      <td>0.000000</td>\n",
       "      <td>17</td>\n",
       "      <td>0.090380</td>\n",
       "      <td>0.986681</td>\n",
       "      <td>-0.334567</td>\n",
       "      <td>-0.282233</td>\n",
       "      <td>-0.055723</td>\n",
       "      <td>0.035342</td>\n",
       "    </tr>\n",
       "    <tr>\n",
       "      <th>78762</th>\n",
       "      <td>0.041845</td>\n",
       "      <td>10</td>\n",
       "      <td>0.739260</td>\n",
       "      <td>0.516087</td>\n",
       "      <td>0.243120</td>\n",
       "      <td>1.023344</td>\n",
       "      <td>-0.254657</td>\n",
       "      <td>-0.047789</td>\n",
       "    </tr>\n",
       "    <tr>\n",
       "      <th>78763</th>\n",
       "      <td>0.000000</td>\n",
       "      <td>17</td>\n",
       "      <td>0.301327</td>\n",
       "      <td>0.847732</td>\n",
       "      <td>-0.257134</td>\n",
       "      <td>-0.211908</td>\n",
       "      <td>0.226566</td>\n",
       "      <td>0.010803</td>\n",
       "    </tr>\n",
       "  </tbody>\n",
       "</table>\n",
       "<p>78764 rows × 8 columns</p>\n",
       "</div>"
      ],
      "text/plain": [
       "             b1  b2        b3        b4      PC 1      PC 2      PC 3  \\\n",
       "0      0.000000  17  0.111717  0.985012 -0.335505 -0.283181 -0.059268   \n",
       "1      0.000000   9  0.447397  0.617834  0.298027  1.077649 -0.048181   \n",
       "2      0.000000  17  0.021192  0.999022 -0.357351 -0.307636 -0.145480   \n",
       "3      0.000000  17  0.152432  0.975689 -0.324380 -0.306372 -0.066071   \n",
       "4      0.000000  17  0.198461  0.953975 -0.304737 -0.285632  0.009656   \n",
       "...         ...  ..       ...       ...       ...       ...       ...   \n",
       "78759  0.000000  16  0.966916  0.221437 -0.341568 -0.280418 -0.069614   \n",
       "78760  0.000000  16  0.971001  0.171076 -0.330724 -0.270356 -0.029779   \n",
       "78761  0.000000  17  0.090380  0.986681 -0.334567 -0.282233 -0.055723   \n",
       "78762  0.041845  10  0.739260  0.516087  0.243120  1.023344 -0.254657   \n",
       "78763  0.000000  17  0.301327  0.847732 -0.257134 -0.211908  0.226566   \n",
       "\n",
       "           PC 4  \n",
       "0      0.035269  \n",
       "1     -0.050618  \n",
       "2      0.027962  \n",
       "3     -0.071212  \n",
       "4     -0.068382  \n",
       "...         ...  \n",
       "78759  0.062787  \n",
       "78760  0.060036  \n",
       "78761  0.035342  \n",
       "78762 -0.047789  \n",
       "78763  0.010803  \n",
       "\n",
       "[78764 rows x 8 columns]"
      ]
     },
     "execution_count": 12,
     "metadata": {},
     "output_type": "execute_result"
    }
   ],
   "source": [
    "# keeping only the features for the training\n",
    "features = df_dim_reduced.drop(\"idnr\",1)\n",
    "features"
   ]
  },
  {
   "cell_type": "code",
   "execution_count": 13,
   "metadata": {},
   "outputs": [
    {
     "name": "stdout",
     "output_type": "stream",
     "text": [
      "<class 'pandas.core.frame.DataFrame'>\n",
      "RangeIndex: 78764 entries, 0 to 78763\n",
      "Data columns (total 42 columns):\n",
      " #   Column  Non-Null Count  Dtype  \n",
      "---  ------  --------------  -----  \n",
      " 0   idnr    78764 non-null  int64  \n",
      " 1   b1      78764 non-null  int64  \n",
      " 2   b2      78764 non-null  int8   \n",
      " 3   b3      78764 non-null  int64  \n",
      " 4   b4      78764 non-null  int64  \n",
      " 5   c1      78764 non-null  int64  \n",
      " 6   c2      78764 non-null  int64  \n",
      " 7   c3      78764 non-null  int8   \n",
      " 8   c4      78764 non-null  float64\n",
      " 9   c5      78764 non-null  float64\n",
      " 10  c6      78764 non-null  int64  \n",
      " 11  c7      78764 non-null  float64\n",
      " 12  c8      78764 non-null  float64\n",
      " 13  c9      78764 non-null  int8   \n",
      " 14  c10     78764 non-null  float64\n",
      " 15  c11     78764 non-null  float64\n",
      " 16  c12     78764 non-null  float64\n",
      " 17  c13     78764 non-null  int64  \n",
      " 18  c14     78764 non-null  int64  \n",
      " 19  c15     78764 non-null  int8   \n",
      " 20  c16     78764 non-null  int64  \n",
      " 21  c17     78764 non-null  int64  \n",
      " 22  c18     78764 non-null  int8   \n",
      " 23  c19     78764 non-null  int8   \n",
      " 24  c20     78764 non-null  int8   \n",
      " 25  c21     78764 non-null  float64\n",
      " 26  c22     78764 non-null  int64  \n",
      " 27  c23     78764 non-null  float64\n",
      " 28  c24     78764 non-null  int64  \n",
      " 29  c25     78764 non-null  int64  \n",
      " 30  c26     78764 non-null  int8   \n",
      " 31  c27     78764 non-null  int64  \n",
      " 32  c28     78764 non-null  float64\n",
      " 33  c29     78764 non-null  int8   \n",
      " 34  c30     78764 non-null  float64\n",
      " 35  c31     78764 non-null  int64  \n",
      " 36  c32     78764 non-null  float64\n",
      " 37  c33     78764 non-null  float64\n",
      " 38  c34     78764 non-null  float64\n",
      " 39  c35     78764 non-null  float64\n",
      " 40  c36     78764 non-null  int64  \n",
      " 41  c37     78764 non-null  int64  \n",
      "dtypes: float64(15), int64(18), int8(9)\n",
      "memory usage: 20.5 MB\n"
     ]
    }
   ],
   "source": [
    "# to identify the missiing values and type of fields\n",
    "df.info()"
   ]
  },
  {
   "cell_type": "markdown",
   "metadata": {},
   "source": [
    "# Data Visualization"
   ]
  },
  {
   "cell_type": "markdown",
   "metadata": {},
   "source": [
    "#### Initial Inspection of Behavioural Attributes in Isolation"
   ]
  },
  {
   "cell_type": "code",
   "execution_count": 14,
   "metadata": {},
   "outputs": [
    {
     "data": {
      "image/png": "[encoded data removed]",
      "text/plain": [
       "<Figure size 432x288 with 1 Axes>"
      ]
     },
     "metadata": {
      "needs_background": "light"
     },
     "output_type": "display_data"
    }
   ],
   "source": [
    "#plt.hist(df.b1, density = True)\n",
    "plt.plot(df_original.b1, color = \"purple\")\n",
    "plt.title(\"b1\")\n",
    "plt.show()"
   ]
  },
  {
   "cell_type": "code",
   "execution_count": 15,
   "metadata": {},
   "outputs": [
    {
     "data": {
      "image/png": "[encoded data removed]",
      "text/plain": [
       "<Figure size 432x288 with 1 Axes>"
      ]
     },
     "metadata": {
      "needs_background": "light"
     },
     "output_type": "display_data"
    }
   ],
   "source": [
    "#plt.hist(df.b3, density = True)\n",
    "plt.plot(df_original.b3, color = \"purple\")\n",
    "plt.title(\"b3\")\n",
    "plt.show()"
   ]
  },
  {
   "cell_type": "code",
   "execution_count": 16,
   "metadata": {},
   "outputs": [
    {
     "data": {
      "image/png": "[encoded data removed]",
      "text/plain": [
       "<Figure size 432x288 with 1 Axes>"
      ]
     },
     "metadata": {
      "needs_background": "light"
     },
     "output_type": "display_data"
    }
   ],
   "source": [
    "#plt.hist(df.b4, density = True)\n",
    "plt.plot(df_original.b4, color = \"purple\")\n",
    "plt.title(\"b4\")\n",
    "plt.show()"
   ]
  },
  {
   "cell_type": "code",
   "execution_count": 17,
   "metadata": {},
   "outputs": [
    {
     "data": {
      "image/png": "[encoded data removed]",
      "text/plain": [
       "<Figure size 432x288 with 1 Axes>"
      ]
     },
     "metadata": {
      "needs_background": "light"
     },
     "output_type": "display_data"
    }
   ],
   "source": [
    "plt.hist(df_original.b2, color = \"purple\", density = True, rwidth = 0.7)\n",
    "plt.show()"
   ]
  },
  {
   "cell_type": "code",
   "execution_count": 18,
   "metadata": {},
   "outputs": [],
   "source": [
    "#print(np.sort(df_original.b2.unique()))"
   ]
  },
  {
   "cell_type": "markdown",
   "metadata": {},
   "source": [
    "## Scatterplot Original Data"
   ]
  },
  {
   "cell_type": "code",
   "execution_count": null,
   "metadata": {},
   "outputs": [],
   "source": [
    "sns.pairplot(df_original[[\"b1\",\"b2\",\"b3\",\"b4\"]], hue=None, hue_order=None, palette=None, vars=None, x_vars=None,\n",
    "              y_vars=None, kind='scatter', diag_kind='auto', markers=None)\n",
    "plt.show()"
   ]
  },
  {
   "cell_type": "markdown",
   "metadata": {},
   "source": [
    "## Scatterplot Transformed Data"
   ]
  },
  {
   "cell_type": "code",
   "execution_count": null,
   "metadata": {},
   "outputs": [],
   "source": [
    "sns.pairplot(df_processed[[\"b1\",\"b2\",\"b3\",\"b4\"]], hue=None, hue_order=None, palette=None, vars=None, x_vars=None,\n",
    "              y_vars=None, kind='scatter', diag_kind='auto', markers=None)\n",
    "plt.show()"
   ]
  },
  {
   "cell_type": "markdown",
   "metadata": {},
   "source": [
    "## Kurtosis of the behavioural variables"
   ]
  },
  {
   "cell_type": "code",
   "execution_count": null,
   "metadata": {},
   "outputs": [],
   "source": [
    "df_hist_ = df_processed[[\"b1\",\"b2\",\"b3\",\"b4\"]]\n",
    "kur = kurtosis(df_hist_, fisher=True)\n",
    "print(\"Kurtosis:\", kur)\n",
    "df_hist_.hist(figsize=(10,10), bins = 50, color = \"purple\", density = True)\n",
    "plt.show()"
   ]
  },
  {
   "cell_type": "markdown",
   "metadata": {},
   "source": [
    "# Training and Predicting: Isolation Forest"
   ]
  },
  {
   "cell_type": "markdown",
   "metadata": {},
   "source": [
    "### Input Parameters"
   ]
  },
  {
   "cell_type": "code",
   "execution_count": null,
   "metadata": {},
   "outputs": [],
   "source": [
    "# n_estimators: Number of Isolation trees trained\n",
    "# max_samples: Number of data points used to train each tree\n",
    "# contamination: Fraction of anomalous data points, we will assume this is 1%\n",
    "# max_features: Number of features to be used to train each tree\n",
    "# n_jobs: The number of jobs to run in parallel for both fit and predict \n",
    "n_estimators = 50\n",
    "max_samples = 500\n",
    "contamination = .01\n",
    "\n",
    "# max_features: we will keep this as by ddefault = max features\n",
    "n_jobs = 1\n",
    "random_state = 1 "
   ]
  },
  {
   "cell_type": "code",
   "execution_count": null,
   "metadata": {},
   "outputs": [],
   "source": [
    "#anomaly = setup(data = features, silent = True)\n",
    "models()"
   ]
  },
  {
   "cell_type": "markdown",
   "metadata": {},
   "source": [
    "## Fitting and Predicting Anomalies"
   ]
  },
  {
   "cell_type": "code",
   "execution_count": null,
   "metadata": {},
   "outputs": [],
   "source": [
    "# defining the model\n",
    "IsolationForest_model  =  IsolationForest(n_estimators, max_samples, contamination, n_jobs=1, random_state=1)"
   ]
  },
  {
   "cell_type": "code",
   "execution_count": null,
   "metadata": {},
   "outputs": [],
   "source": [
    "#fitting the model on our data\n",
    "IsolationForest_model.fit(features)\n",
    "\n",
    "# Get Anomaly Scores and Predictions\n",
    "anomaly_score = IsolationForest_model.decision_function(features)\n",
    "predictions = IsolationForest_model.predict(features)\n",
    "df_dim_reduced[\"anomaly_score\"] = anomaly_score\n",
    "df_dim_reduced[\"anomaly_label\"] = predictions"
   ]
  },
  {
   "cell_type": "code",
   "execution_count": null,
   "metadata": {},
   "outputs": [],
   "source": [
    "# creating dummy variable is_outlier\n",
    "df_dim_reduced[\"is_outlier\"] = df_dim_reduced[\"anomaly_label\"].apply(lambda z: 1 if z == -1 else 0)\n",
    "df_dim_reduced"
   ]
  },
  {
   "cell_type": "code",
   "execution_count": null,
   "metadata": {},
   "outputs": [],
   "source": [
    "df_dim_reduced[df_dim_reduced[\"is_outlier\"] == 1]"
   ]
  },
  {
   "cell_type": "markdown",
   "metadata": {},
   "source": [
    "## Output of the case"
   ]
  },
  {
   "cell_type": "code",
   "execution_count": null,
   "metadata": {},
   "outputs": [],
   "source": [
    "# Saving the output on csv called solution.csv with two fields\n",
    "# idnr: id of the sample\n",
    "# is_outlier: binary field with 0: if not an outlier and 1: if outlier"
   ]
  },
  {
   "cell_type": "code",
   "execution_count": null,
   "metadata": {},
   "outputs": [],
   "source": [
    "# selecting only the id and outlier dummy variable for saving it on csv\n",
    "final_df = df_dim_reduced[[\"idnr\", \"is_outlier\"]]\n",
    "final_df"
   ]
  },
  {
   "cell_type": "code",
   "execution_count": null,
   "metadata": {},
   "outputs": [],
   "source": [
    "#saving the data on csv\n",
    "final_df.to_csv(\"./Output/final_df_withPCA.csv\", sep = ';', index=False)"
   ]
  },
  {
   "cell_type": "code",
   "execution_count": null,
   "metadata": {},
   "outputs": [],
   "source": [
    "plot_model(IsolationForest_model, plot = 'tsne')"
   ]
  },
  {
   "cell_type": "code",
   "execution_count": null,
   "metadata": {},
   "outputs": [],
   "source": [
    "final_df.groupby(\"is_outlier\")[\"idnr\"].count()"
   ]
  },
  {
   "cell_type": "markdown",
   "metadata": {},
   "source": [
    "## PCA for Visualization: Reducing dimension of all data points"
   ]
  },
  {
   "cell_type": "code",
   "execution_count": null,
   "metadata": {},
   "outputs": [],
   "source": [
    "# we will initially divide to 10 PCs\n",
    "pca = PCA(n_components=5)\n",
    "PCs = pca.fit_transform(features)\n",
    "principalDf = pd.DataFrame(data = PCs, columns = ['PC 1', 'PC 2', 'PC 3', 'PC 4', 'PC 5'])\n",
    "principalDf"
   ]
  },
  {
   "cell_type": "code",
   "execution_count": null,
   "metadata": {},
   "outputs": [],
   "source": [
    "PC_values = np.arange(pca.n_components_) + 1\n",
    "plt.plot(PC_values, pca.explained_variance_ratio_, 'ro-', linewidth=2, color = \"purple\")\n",
    "plt.title('Scree Plot for PCA')\n",
    "plt.xlabel('Principal Component')\n",
    "plt.ylabel('PV')\n",
    "plt.show()"
   ]
  },
  {
   "cell_type": "code",
   "execution_count": null,
   "metadata": {},
   "outputs": [],
   "source": [
    "# cumulative percentage variance per PC\n",
    "out_sum = pd.DataFrame(np.cumsum(pca.explained_variance_ratio_)*100, columns = [\"cumPV%\"] ) \n",
    "print (\"Cumulative PV Explained: \\n\", out_sum)"
   ]
  },
  {
   "cell_type": "code",
   "execution_count": null,
   "metadata": {},
   "outputs": [],
   "source": [
    "principalDf[\"is_outlier\"] = final_df[\"is_outlier\"]"
   ]
  },
  {
   "cell_type": "markdown",
   "metadata": {},
   "source": [
    "# Outlier Visualization"
   ]
  },
  {
   "cell_type": "code",
   "execution_count": null,
   "metadata": {},
   "outputs": [],
   "source": [
    "# green for normal point and red for outlier\n",
    "colors = ['#81DF20', '#DF2020']\n",
    "principalDf['c'] = principalDf.is_outlier.map({0:colors[0], 1:colors[1]})\n",
    "plt.scatter(principalDf[\"PC 1\"], principalDf[\"PC 2\"], c=principalDf.c, alpha = 0.6)\n",
    "plt.title(\"Scatter Plot with Outliers\")\n",
    "plt.xlabel(\"PC 1\")\n",
    "plt.ylabel(\"PC 2\")\n",
    "plt.show()"
   ]
  },
  {
   "cell_type": "code",
   "execution_count": null,
   "metadata": {},
   "outputs": [],
   "source": [
    "# green for normal point and red for outlier\n",
    "colors = ['#81DF20', '#DF2020']\n",
    "principalDf['c'] = principalDf.is_outlier.map({0:colors[0], 1:colors[1]})\n",
    "plt.scatter(df_dim_reduced[\"PC 1\"], principalDf[\"PC 3\"], c=principalDf.c, alpha = 0.6)\n",
    "plt.title(\"Scatter Plot with Outliers\")\n",
    "plt.xlabel(\"PC 1\")\n",
    "plt.ylabel(\"PC 3\")\n",
    "plt.show()"
   ]
  },
  {
   "cell_type": "code",
   "execution_count": null,
   "metadata": {},
   "outputs": [],
   "source": [
    "# green for normal point and red for outlier\n",
    "colors = ['#81DF20', '#DF2020']\n",
    "principalDf['c'] = principalDf.is_outlier.map({0:colors[0], 1:colors[1]})\n",
    "plt.scatter(principalDf[\"PC 2\"], principalDf[\"PC 3\"], c=principalDf.c, alpha = 0.6)\n",
    "plt.title(\"Scatter Plot with Outliers\")\n",
    "plt.xlabel(\"PC 2\")\n",
    "plt.ylabel(\"PC 3\")\n",
    "plt.show()"
   ]
  },
  {
   "cell_type": "markdown",
   "metadata": {},
   "source": [
    "# Evaluation of the model: Cross Scoring"
   ]
  },
  {
   "cell_type": "code",
   "execution_count": null,
   "metadata": {},
   "outputs": [],
   "source": [
    "# getting number of observations in the original data\n",
    "N = df_dim_reduced.shape[0]\n",
    "print(N)\n",
    "\n",
    "# number of not outliers in the data\n",
    "N_not_outliers = df_dim_reduced[df_dim_reduced.is_outlier == 0].shape[0]\n",
    "print(N_not_outliers)\n",
    "\n",
    "# 20% of the non-outliers data for testing\n",
    "N_test = int(N_not_outliers*0.2)\n",
    "print(N_test)\n",
    "\n",
    "N_test_outliers1per = int(N_test*0.01)\n",
    "print(N_test_outliers1per)"
   ]
  },
  {
   "cell_type": "code",
   "execution_count": null,
   "metadata": {},
   "outputs": [],
   "source": [
    "# sampling randomly 20% non-anomalous data and also storing all outliers in one place\n",
    "outliers = df_dim_reduced[df_dim_reduced.is_outlier == 1]\n",
    "not_outliers_test = df_dim_reduced[df_dim_reduced.is_outlier == 0].sample(N_test)"
   ]
  },
  {
   "cell_type": "code",
   "execution_count": null,
   "metadata": {},
   "outputs": [],
   "source": [
    "# what we want to to randomly select 1% non-anomalous data points from this random sample and replace them with \n",
    "# randomly selected outliers's data\n",
    "target_baseline = not_outliers_test.sample(N_test_outliers1per)\n",
    "\n",
    "#removing the slected sample from the original one\n",
    "not_outliers_test_updated = not_outliers_test.drop(index = target_baseline.index)\n",
    "\n",
    "target_baseline[\"idnr_notoutlier\"] = target_baseline[\"idnr\"]\n",
    "target_baseline.reset_index(drop=True, inplace=True)"
   ]
  },
  {
   "cell_type": "code",
   "execution_count": null,
   "metadata": {},
   "outputs": [],
   "source": [
    "# we randomly select the same amount of 1% data from outliers to replace the target baseline non-anomalous points\n",
    "selected_outliers = outliers.sample(N_test_outliers1per)\n",
    "selected_outliers[\"idnr_outlier\"] = selected_outliers[\"idnr\"]\n",
    "selected_outliers.reset_index(drop=True, inplace=True)"
   ]
  },
  {
   "cell_type": "code",
   "execution_count": null,
   "metadata": {},
   "outputs": [],
   "source": [
    "# we then switch the data of the two groups (non-anoomouls behaviour with behaviour of outliers)\n",
    "switched_target = pd.concat([target_baseline[[\"idnr\",\"idnr_notoutlier\"]], selected_outliers[[\"idnr_outlier\",\"b1\", \"b2\", \"b3\", \"b4\",\"PC 1\", \"PC 2\", \"PC 3\", \"PC 4\"]]], 1)\n",
    "switched_target"
   ]
  },
  {
   "cell_type": "code",
   "execution_count": null,
   "metadata": {},
   "outputs": [],
   "source": [
    "# combine the orignal test data and the replaced/switched data\n",
    "features_switched = switched_target[[\"b1\",\"b2\",\"b3\",\"b4\",\"PC 1\",\"PC 2\",\"PC 3\", \"PC 4\"]]\n",
    "features_switched[\"switched\"] = 1\n",
    "features_orig_test = not_outliers_test_updated[[\"b1\",\"b2\",\"b3\",\"b4\",\"PC 1\",\"PC 2\",\"PC 3\", \"PC 4\"]]\n",
    "features_orig_test[\"switched\"] = 0\n",
    "feature_ = pd.concat([features_switched,features_orig_test], 0)\n"
   ]
  },
  {
   "cell_type": "code",
   "execution_count": null,
   "metadata": {},
   "outputs": [],
   "source": [
    "#fitting the model on our data\n",
    "IsolationForest_model.fit(feature_.drop(\"switched\",1))\n",
    "\n",
    "# Get Anomaly Scores and Predictions\n",
    "anomaly_score = IsolationForest_model.decision_function(feature_.drop(\"switched\",1))\n",
    "predictions = IsolationForest_model.predict(feature_.drop(\"switched\",1))\n",
    "feature_[\"anomaly_label\"] = predictions\n",
    "# creating dummy variable is_outlier\n",
    "feature_[\"is_outlier\"] = feature_[\"anomaly_label\"].apply(lambda z: 1 if z == -1 else 0)"
   ]
  },
  {
   "cell_type": "code",
   "execution_count": null,
   "metadata": {},
   "outputs": [],
   "source": [
    "# creating dummy variable is_outlier\n",
    "feature_[\"is_outlier\"] = feature_[\"anomaly_label\"].apply(lambda z: 1 if z == -1 else 0)\n",
    "feature_"
   ]
  },
  {
   "cell_type": "markdown",
   "metadata": {},
   "source": [
    "## Calculating Accuracy Meassure"
   ]
  },
  {
   "cell_type": "code",
   "execution_count": null,
   "metadata": {},
   "outputs": [],
   "source": [
    "# observations that had inded anomalies behaviour and we switched them and that the model accuratly predcited as outlier\n",
    "TP = feature_[((feature_.switched == 1) & (feature_.is_outlier == 1))][\"b1\"].count()\n",
    "\n",
    "# observations which are not outlier but have been identified as outliers\n",
    "FP = feature_[((feature_.switched == 0) & (feature_.is_outlier == 1))][\"b1\"].count()\n",
    "\n",
    "# observations which are not outlier but have been identified as non-outliers\n",
    "TN = feature_[((feature_.switched == 0) & (feature_.is_outlier == 0))][\"b1\"].count()\n",
    "\n",
    "# observations which are not outlier but have been identified as non-outliers\n",
    "FN = feature_[((feature_.switched == 1) & (feature_.is_outlier == 0))][\"b1\"].count()\n",
    "\n",
    "TPR = TP/(TP +FN)*100\n",
    "print(\"True Positive Rate:\" + str(round(TPR)) + \"%\")\n",
    "\n",
    "FPR = FP/(FP +TN)*100\n",
    "print(\"False Positive Rate:\" + str(round(FPR)) + \"%\")\n",
    "\n",
    "TNR = 100 - FPR\n",
    "print(\"True Negative Rate:\" + str(round(TNR)) + \"%\")\n",
    "\n",
    "FNR = 100- TPR\n",
    "print(\"False Negative Rate:\" + str(round(FNR)) + \"%\")\n",
    "\n",
    "P = TP/(TP + FP)\n",
    "print(\"Precision:\" + str(P))\n",
    "\n",
    "R = TP/(TP + FN)\n",
    "print(\"Recall:\" + str(R))\n",
    "\n",
    "F1 = 2 * P * R/(R+P)\n",
    "print(\"F1 Score:\" + str(F1))"
   ]
  }
 ],
 "metadata": {
  "kernelspec": {
   "display_name": "Python 3",
   "language": "python",
   "name": "python3"
  },
  "language_info": {
   "codemirror_mode": {
    "name": "ipython",
    "version": 3
   },
   "file_extension": ".py",
   "mimetype": "text/x-python",
   "name": "python",
   "nbconvert_exporter": "python",
   "pygments_lexer": "ipython3",
   "version": "3.8.8"
  }
 },
 "nbformat": 4,
 "nbformat_minor": 4
}
